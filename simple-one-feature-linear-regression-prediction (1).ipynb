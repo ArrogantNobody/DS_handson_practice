{
 "cells": [
  {
   "cell_type": "markdown",
   "id": "2dffc7aa",
   "metadata": {
    "_cell_guid": "6a3d53e8-ee9e-83ab-cf32-782361dcfe92",
    "papermill": {
     "duration": 0.020802,
     "end_time": "2021-10-08T03:32:38.107691",
     "exception": false,
     "start_time": "2021-10-08T03:32:38.086889",
     "status": "completed"
    },
    "tags": []
   },
   "source": [
    "Train the linear regression model and predict value, finally compare with groud truth test data."
   ]
  },
  {
   "cell_type": "code",
   "execution_count": 1,
   "id": "c315f32f",
   "metadata": {
    "execution": {
     "iopub.execute_input": "2021-10-08T03:32:38.162080Z",
     "iopub.status.busy": "2021-10-08T03:32:38.161297Z",
     "iopub.status.idle": "2021-10-08T03:32:39.297268Z",
     "shell.execute_reply": "2021-10-08T03:32:39.296584Z",
     "shell.execute_reply.started": "2021-10-08T03:31:39.268007Z"
    },
    "papermill": {
     "duration": 1.167279,
     "end_time": "2021-10-08T03:32:39.297459",
     "exception": false,
     "start_time": "2021-10-08T03:32:38.130180",
     "status": "completed"
    },
    "tags": []
   },
   "outputs": [],
   "source": [
    "from sklearn import linear_model\n",
    "import pandas as pd\n",
    "import matplotlib.pyplot as plt\n",
    "import numpy as np\n",
    "import math\n",
    "from scipy import stats as st\n",
    "import seaborn as sns"
   ]
  },
  {
   "cell_type": "code",
   "execution_count": 2,
   "id": "7049c699",
   "metadata": {
    "execution": {
     "iopub.execute_input": "2021-10-08T03:32:39.345403Z",
     "iopub.status.busy": "2021-10-08T03:32:39.344715Z",
     "iopub.status.idle": "2021-10-08T03:32:39.390723Z",
     "shell.execute_reply": "2021-10-08T03:32:39.389979Z",
     "shell.execute_reply.started": "2021-10-08T03:31:40.545316Z"
    },
    "papermill": {
     "duration": 0.070263,
     "end_time": "2021-10-08T03:32:39.390879",
     "exception": false,
     "start_time": "2021-10-08T03:32:39.320616",
     "status": "completed"
    },
    "tags": []
   },
   "outputs": [
    {
     "name": "stdout",
     "output_type": "stream",
     "text": [
      "(700, 2)\n"
     ]
    },
    {
     "data": {
      "text/html": [
       "<div>\n",
       "<style scoped>\n",
       "    .dataframe tbody tr th:only-of-type {\n",
       "        vertical-align: middle;\n",
       "    }\n",
       "\n",
       "    .dataframe tbody tr th {\n",
       "        vertical-align: top;\n",
       "    }\n",
       "\n",
       "    .dataframe thead th {\n",
       "        text-align: right;\n",
       "    }\n",
       "</style>\n",
       "<table border=\"1\" class=\"dataframe\">\n",
       "  <thead>\n",
       "    <tr style=\"text-align: right;\">\n",
       "      <th></th>\n",
       "      <th>x</th>\n",
       "      <th>y</th>\n",
       "    </tr>\n",
       "  </thead>\n",
       "  <tbody>\n",
       "    <tr>\n",
       "      <th>0</th>\n",
       "      <td>24.0</td>\n",
       "      <td>21.549452</td>\n",
       "    </tr>\n",
       "    <tr>\n",
       "      <th>1</th>\n",
       "      <td>50.0</td>\n",
       "      <td>47.464463</td>\n",
       "    </tr>\n",
       "    <tr>\n",
       "      <th>2</th>\n",
       "      <td>15.0</td>\n",
       "      <td>17.218656</td>\n",
       "    </tr>\n",
       "    <tr>\n",
       "      <th>3</th>\n",
       "      <td>38.0</td>\n",
       "      <td>36.586398</td>\n",
       "    </tr>\n",
       "    <tr>\n",
       "      <th>4</th>\n",
       "      <td>87.0</td>\n",
       "      <td>87.288984</td>\n",
       "    </tr>\n",
       "  </tbody>\n",
       "</table>\n",
       "</div>"
      ],
      "text/plain": [
       "      x          y\n",
       "0  24.0  21.549452\n",
       "1  50.0  47.464463\n",
       "2  15.0  17.218656\n",
       "3  38.0  36.586398\n",
       "4  87.0  87.288984"
      ]
     },
     "execution_count": 2,
     "metadata": {},
     "output_type": "execute_result"
    }
   ],
   "source": [
    "dirty_training_set = pd.read_csv('../input/train.csv')\n",
    "print(dirty_training_set.shape)\n",
    "dirty_training_set.head()"
   ]
  },
  {
   "cell_type": "code",
   "execution_count": 3,
   "id": "a01d751a",
   "metadata": {
    "execution": {
     "iopub.execute_input": "2021-10-08T03:32:39.434819Z",
     "iopub.status.busy": "2021-10-08T03:32:39.434133Z",
     "iopub.status.idle": "2021-10-08T03:32:43.054779Z",
     "shell.execute_reply": "2021-10-08T03:32:43.055336Z",
     "shell.execute_reply.started": "2021-10-08T03:31:40.592679Z"
    },
    "papermill": {
     "duration": 3.644479,
     "end_time": "2021-10-08T03:32:43.055538",
     "exception": false,
     "start_time": "2021-10-08T03:32:39.411059",
     "status": "completed"
    },
    "tags": []
   },
   "outputs": [
    {
     "data": {
      "text/plain": [
       "<AxesSubplot:xlabel='x', ylabel='y'>"
      ]
     },
     "execution_count": 3,
     "metadata": {},
     "output_type": "execute_result"
    },
    {
     "data": {
      "image/png": "[encoded data removed]",
      "text/plain": [
       "<Figure size 432x288 with 1 Axes>"
      ]
     },
     "metadata": {
      "needs_background": "light"
     },
     "output_type": "display_data"
    }
   ],
   "source": [
    "sns.lineplot(x='x', y='y',data=dirty_training_set, color='blue')"
   ]
  },
  {
   "cell_type": "code",
   "execution_count": 4,
   "id": "7cab4861",
   "metadata": {
    "execution": {
     "iopub.execute_input": "2021-10-08T03:32:43.102054Z",
     "iopub.status.busy": "2021-10-08T03:32:43.101355Z",
     "iopub.status.idle": "2021-10-08T03:32:43.128195Z",
     "shell.execute_reply": "2021-10-08T03:32:43.128756Z",
     "shell.execute_reply.started": "2021-10-08T03:31:43.690152Z"
    },
    "papermill": {
     "duration": 0.051699,
     "end_time": "2021-10-08T03:32:43.128948",
     "exception": false,
     "start_time": "2021-10-08T03:32:43.077249",
     "status": "completed"
    },
    "tags": []
   },
   "outputs": [
    {
     "name": "stdout",
     "output_type": "stream",
     "text": [
      "(300, 2)\n"
     ]
    },
    {
     "data": {
      "text/html": [
       "<div>\n",
       "<style scoped>\n",
       "    .dataframe tbody tr th:only-of-type {\n",
       "        vertical-align: middle;\n",
       "    }\n",
       "\n",
       "    .dataframe tbody tr th {\n",
       "        vertical-align: top;\n",
       "    }\n",
       "\n",
       "    .dataframe thead th {\n",
       "        text-align: right;\n",
       "    }\n",
       "</style>\n",
       "<table border=\"1\" class=\"dataframe\">\n",
       "  <thead>\n",
       "    <tr style=\"text-align: right;\">\n",
       "      <th></th>\n",
       "      <th>x</th>\n",
       "      <th>y</th>\n",
       "    </tr>\n",
       "  </thead>\n",
       "  <tbody>\n",
       "    <tr>\n",
       "      <th>0</th>\n",
       "      <td>77</td>\n",
       "      <td>79.775152</td>\n",
       "    </tr>\n",
       "    <tr>\n",
       "      <th>1</th>\n",
       "      <td>21</td>\n",
       "      <td>23.177279</td>\n",
       "    </tr>\n",
       "    <tr>\n",
       "      <th>2</th>\n",
       "      <td>22</td>\n",
       "      <td>25.609262</td>\n",
       "    </tr>\n",
       "    <tr>\n",
       "      <th>3</th>\n",
       "      <td>20</td>\n",
       "      <td>17.857388</td>\n",
       "    </tr>\n",
       "    <tr>\n",
       "      <th>4</th>\n",
       "      <td>36</td>\n",
       "      <td>41.849864</td>\n",
       "    </tr>\n",
       "  </tbody>\n",
       "</table>\n",
       "</div>"
      ],
      "text/plain": [
       "    x          y\n",
       "0  77  79.775152\n",
       "1  21  23.177279\n",
       "2  22  25.609262\n",
       "3  20  17.857388\n",
       "4  36  41.849864"
      ]
     },
     "execution_count": 4,
     "metadata": {},
     "output_type": "execute_result"
    }
   ],
   "source": [
    "dirty_test_set = pd.read_csv('../input/test.csv')\n",
    "print(dirty_test_set.shape)\n",
    "dirty_test_set.head()"
   ]
  },
  {
   "cell_type": "code",
   "execution_count": 5,
   "id": "adc68ceb",
   "metadata": {
    "execution": {
     "iopub.execute_input": "2021-10-08T03:32:43.177944Z",
     "iopub.status.busy": "2021-10-08T03:32:43.177253Z",
     "iopub.status.idle": "2021-10-08T03:32:46.118996Z",
     "shell.execute_reply": "2021-10-08T03:32:46.119611Z",
     "shell.execute_reply.started": "2021-10-08T03:31:43.712912Z"
    },
    "papermill": {
     "duration": 2.968461,
     "end_time": "2021-10-08T03:32:46.119795",
     "exception": false,
     "start_time": "2021-10-08T03:32:43.151334",
     "status": "completed"
    },
    "tags": []
   },
   "outputs": [
    {
     "data": {
      "text/plain": [
       "<AxesSubplot:xlabel='x', ylabel='y'>"
      ]
     },
     "execution_count": 5,
     "metadata": {},
     "output_type": "execute_result"
    },
    {
     "data": {
      "image/png": "[encoded data removed]",
      "text/plain": [
       "<Figure size 432x288 with 1 Axes>"
      ]
     },
     "metadata": {
      "needs_background": "light"
     },
     "output_type": "display_data"
    }
   ],
   "source": [
    "sns.lineplot(x='x', y='y',data=dirty_test_set, color='green')"
   ]
  },
  {
   "cell_type": "markdown",
   "id": "61e2bf8b",
   "metadata": {
    "papermill": {
     "duration": 0.024157,
     "end_time": "2021-10-08T03:32:46.167402",
     "exception": false,
     "start_time": "2021-10-08T03:32:46.143245",
     "status": "completed"
    },
    "tags": []
   },
   "source": [
    "Nan removal"
   ]
  },
  {
   "cell_type": "code",
   "execution_count": 6,
   "id": "65c8587b",
   "metadata": {
    "execution": {
     "iopub.execute_input": "2021-10-08T03:32:46.218900Z",
     "iopub.status.busy": "2021-10-08T03:32:46.217794Z",
     "iopub.status.idle": "2021-10-08T03:32:46.229072Z",
     "shell.execute_reply": "2021-10-08T03:32:46.230075Z",
     "shell.execute_reply.started": "2021-10-08T03:31:46.397692Z"
    },
    "papermill": {
     "duration": 0.039753,
     "end_time": "2021-10-08T03:32:46.230371",
     "exception": false,
     "start_time": "2021-10-08T03:32:46.190618",
     "status": "completed"
    },
    "tags": []
   },
   "outputs": [
    {
     "name": "stdout",
     "output_type": "stream",
     "text": [
      "(699, 2)\n",
      "(300, 2)\n"
     ]
    }
   ],
   "source": [
    "training_set = dirty_training_set.dropna() \n",
    "print(training_set.shape)\n",
    "test_set = dirty_test_set.dropna()\n",
    "print(test_set.shape)"
   ]
  },
  {
   "cell_type": "code",
   "execution_count": 7,
   "id": "d3e75345",
   "metadata": {
    "execution": {
     "iopub.execute_input": "2021-10-08T03:32:46.283338Z",
     "iopub.status.busy": "2021-10-08T03:32:46.282301Z",
     "iopub.status.idle": "2021-10-08T03:32:46.291333Z",
     "shell.execute_reply": "2021-10-08T03:32:46.291981Z",
     "shell.execute_reply.started": "2021-10-08T03:31:46.410630Z"
    },
    "papermill": {
     "duration": 0.036941,
     "end_time": "2021-10-08T03:32:46.292197",
     "exception": false,
     "start_time": "2021-10-08T03:32:46.255256",
     "status": "completed"
    },
    "tags": []
   },
   "outputs": [
    {
     "name": "stdout",
     "output_type": "stream",
     "text": [
      "0    21.549452\n",
      "1    47.464463\n",
      "2    17.218656\n",
      "3    36.586398\n",
      "4    87.288984\n",
      "5    32.463875\n",
      "Name: y, dtype: float64\n",
      "0    24.0\n",
      "1    50.0\n",
      "2    15.0\n",
      "3    38.0\n",
      "4    87.0\n",
      "5    36.0\n",
      "Name: x, dtype: float64\n"
     ]
    }
   ],
   "source": [
    "print (training_set.loc[0:5]['y'])\n",
    "print (training_set.loc[0:5]['x'])"
   ]
  },
  {
   "cell_type": "code",
   "execution_count": 8,
   "id": "280c6ae0",
   "metadata": {
    "execution": {
     "iopub.execute_input": "2021-10-08T03:32:46.362175Z",
     "iopub.status.busy": "2021-10-08T03:32:46.361277Z",
     "iopub.status.idle": "2021-10-08T03:32:46.364854Z",
     "shell.execute_reply": "2021-10-08T03:32:46.365395Z",
     "shell.execute_reply.started": "2021-10-08T03:31:46.424512Z"
    },
    "papermill": {
     "duration": 0.048879,
     "end_time": "2021-10-08T03:32:46.365595",
     "exception": false,
     "start_time": "2021-10-08T03:32:46.316716",
     "status": "completed"
    },
    "tags": []
   },
   "outputs": [
    {
     "data": {
      "text/html": [
       "<div>\n",
       "<style scoped>\n",
       "    .dataframe tbody tr th:only-of-type {\n",
       "        vertical-align: middle;\n",
       "    }\n",
       "\n",
       "    .dataframe tbody tr th {\n",
       "        vertical-align: top;\n",
       "    }\n",
       "\n",
       "    .dataframe thead th {\n",
       "        text-align: right;\n",
       "    }\n",
       "</style>\n",
       "<table border=\"1\" class=\"dataframe\">\n",
       "  <thead>\n",
       "    <tr style=\"text-align: right;\">\n",
       "      <th></th>\n",
       "      <th>x</th>\n",
       "      <th>y</th>\n",
       "    </tr>\n",
       "  </thead>\n",
       "  <tbody>\n",
       "    <tr>\n",
       "      <th>count</th>\n",
       "      <td>699.0</td>\n",
       "      <td>699.0</td>\n",
       "    </tr>\n",
       "    <tr>\n",
       "      <th>mean</th>\n",
       "      <td>50.0</td>\n",
       "      <td>50.0</td>\n",
       "    </tr>\n",
       "    <tr>\n",
       "      <th>std</th>\n",
       "      <td>29.0</td>\n",
       "      <td>29.0</td>\n",
       "    </tr>\n",
       "    <tr>\n",
       "      <th>min</th>\n",
       "      <td>0.0</td>\n",
       "      <td>-4.0</td>\n",
       "    </tr>\n",
       "    <tr>\n",
       "      <th>25%</th>\n",
       "      <td>25.0</td>\n",
       "      <td>25.0</td>\n",
       "    </tr>\n",
       "    <tr>\n",
       "      <th>50%</th>\n",
       "      <td>49.0</td>\n",
       "      <td>49.0</td>\n",
       "    </tr>\n",
       "    <tr>\n",
       "      <th>75%</th>\n",
       "      <td>75.0</td>\n",
       "      <td>75.0</td>\n",
       "    </tr>\n",
       "    <tr>\n",
       "      <th>max</th>\n",
       "      <td>100.0</td>\n",
       "      <td>109.0</td>\n",
       "    </tr>\n",
       "  </tbody>\n",
       "</table>\n",
       "</div>"
      ],
      "text/plain": [
       "           x      y\n",
       "count  699.0  699.0\n",
       "mean    50.0   50.0\n",
       "std     29.0   29.0\n",
       "min      0.0   -4.0\n",
       "25%     25.0   25.0\n",
       "50%     49.0   49.0\n",
       "75%     75.0   75.0\n",
       "max    100.0  109.0"
      ]
     },
     "execution_count": 8,
     "metadata": {},
     "output_type": "execute_result"
    }
   ],
   "source": [
    "training_set.describe().round()"
   ]
  },
  {
   "cell_type": "code",
   "execution_count": 9,
   "id": "3970cdfb",
   "metadata": {
    "_cell_guid": "0fd72211-2dfb-b1c5-57f6-356358803d6c",
    "execution": {
     "iopub.execute_input": "2021-10-08T03:32:46.425060Z",
     "iopub.status.busy": "2021-10-08T03:32:46.424049Z",
     "iopub.status.idle": "2021-10-08T03:32:46.431493Z",
     "shell.execute_reply": "2021-10-08T03:32:46.430889Z",
     "shell.execute_reply.started": "2021-10-08T03:31:46.450809Z"
    },
    "papermill": {
     "duration": 0.041455,
     "end_time": "2021-10-08T03:32:46.431654",
     "exception": false,
     "start_time": "2021-10-08T03:32:46.390199",
     "status": "completed"
    },
    "tags": []
   },
   "outputs": [
    {
     "name": "stdout",
     "output_type": "stream",
     "text": [
      "Mean of X Training set:  50.01430615164521 \n",
      "\n",
      "Median of X Training set:  49.0 \n",
      "\n",
      "Mean of Y Training set:  49.939869170457804 \n",
      "\n",
      "Median of Y Training set:  48.97302037 \n",
      "\n",
      "Std Dev of X Training set:  28.933841385275375 \n",
      "\n",
      "Std Dev of Y Training set:  29.08838760426971 \n",
      "\n"
     ]
    }
   ],
   "source": [
    "x_training_set = training_set['x'].to_numpy()\n",
    "y_training_set = training_set['y'].to_numpy()\n",
    "\n",
    "\n",
    "x_test_set = test_set['x'].to_numpy()\n",
    "y_test_set = test_set['y'].to_numpy()\n",
    "\n",
    "# Review some of the statistics to check whether the data is skewed\n",
    "print (\"Mean of X Training set: \", np.mean(x_training_set), \"\\n\")\n",
    "print (\"Median of X Training set: \", np.median(x_training_set), \"\\n\")\n",
    "print (\"Mean of Y Training set: \", np.mean(y_training_set), \"\\n\")\n",
    "print (\"Median of Y Training set: \", np.median(y_training_set), \"\\n\")\n",
    "print (\"Std Dev of X Training set: \", np.std(x_training_set), \"\\n\")\n",
    "print (\"Std Dev of Y Training set: \", np.std(y_training_set), \"\\n\")"
   ]
  },
  {
   "cell_type": "markdown",
   "id": "acafb149",
   "metadata": {
    "_cell_guid": "72a2c30a-e8f6-caf1-f805-f469fc224e98",
    "papermill": {
     "duration": 0.024285,
     "end_time": "2021-10-08T03:32:46.480740",
     "exception": false,
     "start_time": "2021-10-08T03:32:46.456455",
     "status": "completed"
    },
    "tags": []
   },
   "source": [
    "Median and mean are similar so the training set isn't skewed by any outliers that might cause leverage when doing the linear regression"
   ]
  },
  {
   "cell_type": "code",
   "execution_count": 10,
   "id": "187a6c49",
   "metadata": {
    "_cell_guid": "95911182-22c8-22dc-0c0a-4bc90c1c354e",
    "execution": {
     "iopub.execute_input": "2021-10-08T03:32:46.554706Z",
     "iopub.status.busy": "2021-10-08T03:32:46.548349Z",
     "iopub.status.idle": "2021-10-08T03:32:46.828949Z",
     "shell.execute_reply": "2021-10-08T03:32:46.828359Z",
     "shell.execute_reply.started": "2021-10-08T03:31:46.468371Z"
    },
    "papermill": {
     "duration": 0.323533,
     "end_time": "2021-10-08T03:32:46.829103",
     "exception": false,
     "start_time": "2021-10-08T03:32:46.505570",
     "status": "completed"
    },
    "tags": []
   },
   "outputs": [
    {
     "data": {
      "image/png": "[encoded data removed]",
      "text/plain": [
       "<Figure size 432x288 with 2 Axes>"
      ]
     },
     "metadata": {
      "needs_background": "light"
     },
     "output_type": "display_data"
    }
   ],
   "source": [
    "plt.subplot(1, 2, 1)\n",
    "plt.title('X training set')\n",
    "plt.boxplot(x_training_set)\n",
    "\n",
    "plt.subplot(1, 2, 2)\n",
    "plt.title('Y training set')\n",
    "plt.boxplot(y_training_set)\n",
    "plt.show()"
   ]
  },
  {
   "cell_type": "markdown",
   "id": "a2ddbcef",
   "metadata": {
    "_cell_guid": "6870e81e-93f4-5836-0343-d7f5f376f7db",
    "papermill": {
     "duration": 0.02538,
     "end_time": "2021-10-08T03:32:46.879951",
     "exception": false,
     "start_time": "2021-10-08T03:32:46.854571",
     "status": "completed"
    },
    "tags": []
   },
   "source": [
    "Does really show very much but we are not really here for the data.  The data isn't normal and there doesn't seem to be any outliers to worry about."
   ]
  },
  {
   "cell_type": "code",
   "execution_count": 11,
   "id": "1d0388de",
   "metadata": {
    "_cell_guid": "629e6ada-fcda-d7a2-7e26-346fdee737df",
    "execution": {
     "iopub.execute_input": "2021-10-08T03:32:46.939116Z",
     "iopub.status.busy": "2021-10-08T03:32:46.934968Z",
     "iopub.status.idle": "2021-10-08T03:32:46.956169Z",
     "shell.execute_reply": "2021-10-08T03:32:46.956738Z",
     "shell.execute_reply.started": "2021-10-08T03:31:46.753754Z"
    },
    "papermill": {
     "duration": 0.051017,
     "end_time": "2021-10-08T03:32:46.956921",
     "exception": false,
     "start_time": "2021-10-08T03:32:46.905904",
     "status": "completed"
    },
    "tags": []
   },
   "outputs": [
    {
     "name": "stdout",
     "output_type": "stream",
     "text": [
      "R sq:  0.9907015319025518\n",
      "Correlation:  0.9953399077212527\n"
     ]
    }
   ],
   "source": [
    "# Now to set up the linear regression model\n",
    "# Create linear regression object\n",
    "from sklearn import linear_model\n",
    "x_training_set = x_training_set.reshape(-1, 1)\n",
    "y_training_set = y_training_set.reshape(-1, 1)\n",
    "\n",
    "lm = linear_model.LinearRegression()\n",
    "# ... then fir it\n",
    "lm.fit(x_training_set,y_training_set)\n",
    "\n",
    "# Have a look at R sq to give an idea of the fit \n",
    "print('R sq: ',lm.score(x_training_set,y_training_set))#Return the coefficient of determination of the prediction.\n",
    "\n",
    "# and so the correlation is..\n",
    "print('Correlation: ', math.sqrt(lm.score(x_training_set,y_training_set)))\n"
   ]
  },
  {
   "cell_type": "markdown",
   "id": "e68b9db4",
   "metadata": {
    "_cell_guid": "b4182047-7f58-90b1-5ab7-49e4ac6df9e4",
    "papermill": {
     "duration": 0.026495,
     "end_time": "2021-10-08T03:32:47.009113",
     "exception": false,
     "start_time": "2021-10-08T03:32:46.982618",
     "status": "completed"
    },
    "tags": []
   },
   "source": [
    "Now that's what I call a good R sq and correlation!!! The positive correlation shows that as Y increases\n",
    "so does X."
   ]
  },
  {
   "cell_type": "code",
   "execution_count": 12,
   "id": "a0ce205b",
   "metadata": {
    "_cell_guid": "c4cad080-fbd2-9ea8-da55-214f275defcf",
    "execution": {
     "iopub.execute_input": "2021-10-08T03:32:47.083492Z",
     "iopub.status.busy": "2021-10-08T03:32:47.078916Z",
     "iopub.status.idle": "2021-10-08T03:32:47.097304Z",
     "shell.execute_reply": "2021-10-08T03:32:47.098007Z",
     "shell.execute_reply.started": "2021-10-08T03:31:46.787175Z"
    },
    "papermill": {
     "duration": 0.058181,
     "end_time": "2021-10-08T03:32:47.098243",
     "exception": false,
     "start_time": "2021-10-08T03:32:47.040062",
     "status": "completed"
    },
    "tags": []
   },
   "outputs": [
    {
     "name": "stdout",
     "output_type": "stream",
     "text": [
      "Coefficient for X  [[1.00065638]]\n",
      "Standard Error:  [1.09516205]\n",
      "The t-statistic: [[0.91370623]]\n",
      "Two tailed p-values: \n"
     ]
    },
    {
     "data": {
      "text/plain": [
       "(0.9953399077212528, 0.0)"
      ]
     },
     "execution_count": 12,
     "metadata": {},
     "output_type": "execute_result"
    }
   ],
   "source": [
    "# This the coefficient for the single feature\n",
    "print(\"Coefficient for X \", lm.coef_)\n",
    "\n",
    "# Get the standard error\n",
    "print (\"Standard Error: \",st.sem(x_training_set))\n",
    "# Our hypothesis test for this is that there is no difference between the coefficient and the true value\n",
    "# that the coefficient should be\n",
    "ttest = lm.coef_/st.sem(x_training_set)\n",
    "print (\"The t-statistic:\",ttest)\n",
    "\n",
    "# but we need the p-value to help determine the probablity that we have a correct t-statistic\n",
    "print (\"Two tailed p-values: \")\n",
    "st.pearsonr(np.squeeze(x_training_set), np.squeeze(y_training_set))\n"
   ]
  },
  {
   "cell_type": "markdown",
   "id": "c6a130dc",
   "metadata": {
    "_cell_guid": "a36e3c89-5523-c394-e439-dcc0a1675519",
    "papermill": {
     "duration": 0.026597,
     "end_time": "2021-10-08T03:32:47.152826",
     "exception": false,
     "start_time": "2021-10-08T03:32:47.126229",
     "status": "completed"
    },
    "tags": []
   },
   "source": [
    "Although we haven't a normal distribution I have done these calculations - just because."
   ]
  },
  {
   "cell_type": "code",
   "execution_count": 13,
   "id": "42460fe8",
   "metadata": {
    "_cell_guid": "07e2ef93-2696-2827-e066-37354431c8cd",
    "execution": {
     "iopub.execute_input": "2021-10-08T03:32:47.224346Z",
     "iopub.status.busy": "2021-10-08T03:32:47.218248Z",
     "iopub.status.idle": "2021-10-08T03:32:47.235821Z",
     "shell.execute_reply": "2021-10-08T03:32:47.235117Z",
     "shell.execute_reply.started": "2021-10-08T03:31:46.801215Z"
    },
    "papermill": {
     "duration": 0.056129,
     "end_time": "2021-10-08T03:32:47.235992",
     "exception": false,
     "start_time": "2021-10-08T03:32:47.179863",
     "status": "completed"
    },
    "tags": []
   },
   "outputs": [
    {
     "name": "stdout",
     "output_type": "stream",
     "text": [
      "The F-statistic is:   295202.8690868274\n"
     ]
    }
   ],
   "source": [
    "# This the F-statistic that shows whether there is a relationship between the response and the predictors\n",
    "# I couldn't find a function for this so I have done the calcs by hand\n",
    "# First get the total sum of the squares.\n",
    "TSS = y_training_set\n",
    "TSS = [i**2 for i in TSS]   # Using list comprehension to square each element\n",
    "TSS = np.sum(TSS)\n",
    "\n",
    "# This calculates the residual sum of the squares\n",
    "y_predicted = lm.predict(x_training_set)   # These are predicted values of Y\n",
    "y_variance = y_training_set - y_predicted # These are the residuals bewteen actual values of Y and the predcitions\n",
    "y_variance = [i**2 for i in y_variance]   # Using list comprehension to square each element\n",
    "RSS = np.sum(y_variance)\n",
    "\n",
    "# As we only have one feature the f-statistic formula = ((TSS -RSS)/p)/(RSS/(n - p -1)) becomes\n",
    "#(TSS - RSS)/(RSS/ (n - 2) )\n",
    "Fstatistic = (TSS - RSS) / (RSS/(np.size(y_predicted) - 2))\n",
    "print (\"The F-statistic is:  \", Fstatistic)\n",
    "\n",
    "\n",
    "\n"
   ]
  },
  {
   "cell_type": "markdown",
   "id": "d2343038",
   "metadata": {
    "_cell_guid": "d9c18bb3-2a9f-8b36-cfe5-a3a7757f48cd",
    "papermill": {
     "duration": 0.027222,
     "end_time": "2021-10-08T03:32:47.290816",
     "exception": false,
     "start_time": "2021-10-08T03:32:47.263594",
     "status": "completed"
    },
    "tags": []
   },
   "source": [
    "Which is pretty huge so I think we can safely say there is a relationship. As we've got a pretty good\n",
    "model let's run it against the test set."
   ]
  },
  {
   "cell_type": "code",
   "execution_count": 14,
   "id": "84da0850",
   "metadata": {
    "_cell_guid": "a52a815f-0649-a9fb-ed88-15c5d5959d54",
    "execution": {
     "iopub.execute_input": "2021-10-08T03:32:47.367059Z",
     "iopub.status.busy": "2021-10-08T03:32:47.366282Z",
     "iopub.status.idle": "2021-10-08T03:32:47.370310Z",
     "shell.execute_reply": "2021-10-08T03:32:47.369604Z",
     "shell.execute_reply.started": "2021-10-08T03:31:46.815286Z"
    },
    "papermill": {
     "duration": 0.044283,
     "end_time": "2021-10-08T03:32:47.370501",
     "exception": false,
     "start_time": "2021-10-08T03:32:47.326218",
     "status": "completed"
    },
    "tags": []
   },
   "outputs": [
    {
     "name": "stdout",
     "output_type": "stream",
     "text": [
      "300\n",
      "300\n"
     ]
    }
   ],
   "source": [
    "# So let's run the model against the test data\n",
    "y_predicted = lm.predict(x_test_set.reshape(-1,1))\n",
    "print(len(np.squeeze(y_predicted)))\n",
    "print(len(np.squeeze(y_test_set)))"
   ]
  },
  {
   "cell_type": "code",
   "execution_count": 15,
   "id": "ce2b5595",
   "metadata": {
    "execution": {
     "iopub.execute_input": "2021-10-08T03:32:47.442926Z",
     "iopub.status.busy": "2021-10-08T03:32:47.442151Z",
     "iopub.status.idle": "2021-10-08T03:32:47.798448Z",
     "shell.execute_reply": "2021-10-08T03:32:47.797677Z",
     "shell.execute_reply.started": "2021-10-08T03:32:05.188708Z"
    },
    "papermill": {
     "duration": 0.387568,
     "end_time": "2021-10-08T03:32:47.798645",
     "exception": false,
     "start_time": "2021-10-08T03:32:47.411077",
     "status": "completed"
    },
    "tags": []
   },
   "outputs": [
    {
     "data": {
      "image/png": "[encoded data removed]",
      "text/plain": [
       "<Figure size 432x288 with 1 Axes>"
      ]
     },
     "metadata": {
      "needs_background": "light"
     },
     "output_type": "display_data"
    }
   ],
   "source": [
    "plt.scatter(x_test_set,y_test_set, color='red', alpha=0.2)\n",
    "plt.scatter(x_test_set, y_predicted, color='green')\n",
    "plt.show()"
   ]
  },
  {
   "cell_type": "code",
   "execution_count": 16,
   "id": "64860cbe",
   "metadata": {
    "execution": {
     "iopub.execute_input": "2021-10-08T03:32:47.901379Z",
     "iopub.status.busy": "2021-10-08T03:32:47.896126Z",
     "iopub.status.idle": "2021-10-08T03:32:48.108795Z",
     "shell.execute_reply": "2021-10-08T03:32:48.109543Z",
     "shell.execute_reply.started": "2021-10-08T03:32:11.880661Z"
    },
    "papermill": {
     "duration": 0.281857,
     "end_time": "2021-10-08T03:32:48.109748",
     "exception": false,
     "start_time": "2021-10-08T03:32:47.827891",
     "status": "completed"
    },
    "tags": []
   },
   "outputs": [
    {
     "data": {
      "image/png": "[encoded data removed]",
      "text/plain": [
       "<Figure size 432x288 with 1 Axes>"
      ]
     },
     "metadata": {
      "needs_background": "light"
     },
     "output_type": "display_data"
    }
   ],
   "source": [
    "plt.title('Comparison of Y values in test and the Predicted values')\n",
    "plt.ylabel('Test Set')\n",
    "plt.xlabel('Predicted values')\n",
    "y_p = list(np.squeeze(y_predicted))\n",
    "y_t = list(np.squeeze(y_test_set))\n",
    "y_p.sort()\n",
    "y_t.sort()\n",
    "plt.plot(y_t, 'g*', y_p,  'ro')\n",
    "plt.show()"
   ]
  },
  {
   "cell_type": "markdown",
   "id": "8b429a8f",
   "metadata": {
    "_cell_guid": "a6f2ceda-31f8-42ef-c0f2-40ee6afb99d1",
    "papermill": {
     "duration": 0.029551,
     "end_time": "2021-10-08T03:32:48.169811",
     "exception": false,
     "start_time": "2021-10-08T03:32:48.140260",
     "status": "completed"
    },
    "tags": []
   },
   "source": [
    "As we expected it's a really good fit!!"
   ]
  }
 ],
 "metadata": {
  "kernelspec": {
   "display_name": "Python 3",
   "language": "python",
   "name": "python3"
  },
  "language_info": {
   "codemirror_mode": {
    "name": "ipython",
    "version": 3
   },
   "file_extension": ".py",
   "mimetype": "text/x-python",
   "name": "python",
   "nbconvert_exporter": "python",
   "pygments_lexer": "ipython3",
   "version": "3.7.10"
  },
  "papermill": {
   "default_parameters": {},
   "duration": 19.772667,
   "end_time": "2021-10-08T03:32:49.653729",
   "environment_variables": {},
   "exception": null,
   "input_path": "__notebook__.ipynb",
   "output_path": "__notebook__.ipynb",
   "parameters": {},
   "start_time": "2021-10-08T03:32:29.881062",
   "version": "2.3.3"
  }
 },
 "nbformat": 4,
 "nbformat_minor": 5
}
