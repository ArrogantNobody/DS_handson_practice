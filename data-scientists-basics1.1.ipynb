{
 "cells": [
  {
   "cell_type": "markdown",
   "id": "6aeb7901",
   "metadata": {
    "_cell_guid": "b1076dfc-b9ad-4769-8c92-a6c4dae69d19",
    "_uuid": "8f2839f25d086af736a60e9eeb907d3b93b6e0e5",
    "execution": {
     "iopub.execute_input": "2021-10-04T15:55:01.732178Z",
     "iopub.status.busy": "2021-10-04T15:55:01.731631Z",
     "iopub.status.idle": "2021-10-04T15:55:02.522988Z",
     "shell.execute_reply": "2021-10-04T15:55:02.522157Z",
     "shell.execute_reply.started": "2021-10-04T15:55:01.732084Z"
    },
    "papermill": {
     "duration": 0.020186,
     "end_time": "2021-10-06T22:26:14.059542",
     "exception": false,
     "start_time": "2021-10-06T22:26:14.039356",
     "status": "completed"
    },
    "tags": []
   },
   "source": [
    "# Importing Neccessary Libraries "
   ]
  },
  {
   "cell_type": "code",
   "execution_count": 1,
   "id": "c234f03a",
   "metadata": {
    "execution": {
     "iopub.execute_input": "2021-10-06T22:26:14.101155Z",
     "iopub.status.busy": "2021-10-06T22:26:14.100122Z",
     "iopub.status.idle": "2021-10-06T22:26:14.926368Z",
     "shell.execute_reply": "2021-10-06T22:26:14.926913Z",
     "shell.execute_reply.started": "2021-10-06T22:24:24.094678Z"
    },
    "papermill": {
     "duration": 0.848428,
     "end_time": "2021-10-06T22:26:14.927194",
     "exception": false,
     "start_time": "2021-10-06T22:26:14.078766",
     "status": "completed"
    },
    "tags": []
   },
   "outputs": [
    {
     "name": "stdout",
     "output_type": "stream",
     "text": [
      "/kaggle/input/college-placement-data-set/Placement_Data_Full_Class.csv\n"
     ]
    }
   ],
   "source": [
    "import numpy as np \n",
    "import pandas as pd \n",
    "from matplotlib import pyplot as plt\n",
    "import seaborn as sns\n",
    "\n",
    "import os\n",
    "for dirname, _, filenames in os.walk('/kaggle/input'):\n",
    "    for filename in filenames:\n",
    "        print(os.path.join(dirname, filename))"
   ]
  },
  {
   "cell_type": "markdown",
   "id": "8bfda88b",
   "metadata": {
    "papermill": {
     "duration": 0.018302,
     "end_time": "2021-10-06T22:26:14.966357",
     "exception": false,
     "start_time": "2021-10-06T22:26:14.948055",
     "status": "completed"
    },
    "tags": []
   },
   "source": [
    "# Importing Placement Data Set"
   ]
  },
  {
   "cell_type": "code",
   "execution_count": 2,
   "id": "acd2773c",
   "metadata": {
    "execution": {
     "iopub.execute_input": "2021-10-06T22:26:15.008767Z",
     "iopub.status.busy": "2021-10-06T22:26:15.008096Z",
     "iopub.status.idle": "2021-10-06T22:26:15.047872Z",
     "shell.execute_reply": "2021-10-06T22:26:15.047446Z",
     "shell.execute_reply.started": "2021-10-06T22:24:24.109827Z"
    },
    "papermill": {
     "duration": 0.062998,
     "end_time": "2021-10-06T22:26:15.048003",
     "exception": false,
     "start_time": "2021-10-06T22:26:14.985005",
     "status": "completed"
    },
    "tags": []
   },
   "outputs": [
    {
     "name": "stdout",
     "output_type": "stream",
     "text": [
      "(215, 14)\n"
     ]
    },
    {
     "data": {
      "text/html": [
       "<div>\n",
       "<style scoped>\n",
       "    .dataframe tbody tr th:only-of-type {\n",
       "        vertical-align: middle;\n",
       "    }\n",
       "\n",
       "    .dataframe tbody tr th {\n",
       "        vertical-align: top;\n",
       "    }\n",
       "\n",
       "    .dataframe thead th {\n",
       "        text-align: right;\n",
       "    }\n",
       "</style>\n",
       "<table border=\"1\" class=\"dataframe\">\n",
       "  <thead>\n",
       "    <tr style=\"text-align: right;\">\n",
       "      <th></th>\n",
       "      <th>Sno</th>\n",
       "      <th>Gender</th>\n",
       "      <th>10th %</th>\n",
       "      <th>SSC Board</th>\n",
       "      <th>12th %</th>\n",
       "      <th>HSC Board</th>\n",
       "      <th>12th Stream</th>\n",
       "      <th>Degree %</th>\n",
       "      <th>Degree stream</th>\n",
       "      <th>Work exp</th>\n",
       "      <th>specialisation</th>\n",
       "      <th>Mba %</th>\n",
       "      <th>status</th>\n",
       "      <th>salary</th>\n",
       "    </tr>\n",
       "  </thead>\n",
       "  <tbody>\n",
       "    <tr>\n",
       "      <th>0</th>\n",
       "      <td>1</td>\n",
       "      <td>M</td>\n",
       "      <td>67.00</td>\n",
       "      <td>Others</td>\n",
       "      <td>91.00</td>\n",
       "      <td>Others</td>\n",
       "      <td>Commerce</td>\n",
       "      <td>58.00</td>\n",
       "      <td>Sci&amp;Tech</td>\n",
       "      <td>No</td>\n",
       "      <td>Mkt&amp;HR</td>\n",
       "      <td>58.80</td>\n",
       "      <td>Placed</td>\n",
       "      <td>270000.0</td>\n",
       "    </tr>\n",
       "    <tr>\n",
       "      <th>1</th>\n",
       "      <td>2</td>\n",
       "      <td>M</td>\n",
       "      <td>79.33</td>\n",
       "      <td>Central</td>\n",
       "      <td>78.33</td>\n",
       "      <td>Others</td>\n",
       "      <td>Science</td>\n",
       "      <td>77.48</td>\n",
       "      <td>Sci&amp;Tech</td>\n",
       "      <td>Yes</td>\n",
       "      <td>Mkt&amp;Fin</td>\n",
       "      <td>66.28</td>\n",
       "      <td>Placed</td>\n",
       "      <td>200000.0</td>\n",
       "    </tr>\n",
       "    <tr>\n",
       "      <th>2</th>\n",
       "      <td>3</td>\n",
       "      <td>M</td>\n",
       "      <td>65.00</td>\n",
       "      <td>Central</td>\n",
       "      <td>68.00</td>\n",
       "      <td>Central</td>\n",
       "      <td>Arts</td>\n",
       "      <td>64.00</td>\n",
       "      <td>Comm&amp;Mgmt</td>\n",
       "      <td>No</td>\n",
       "      <td>Mkt&amp;Fin</td>\n",
       "      <td>57.80</td>\n",
       "      <td>Placed</td>\n",
       "      <td>250000.0</td>\n",
       "    </tr>\n",
       "    <tr>\n",
       "      <th>3</th>\n",
       "      <td>4</td>\n",
       "      <td>M</td>\n",
       "      <td>56.00</td>\n",
       "      <td>Central</td>\n",
       "      <td>52.00</td>\n",
       "      <td>Central</td>\n",
       "      <td>Science</td>\n",
       "      <td>52.00</td>\n",
       "      <td>Sci&amp;Tech</td>\n",
       "      <td>No</td>\n",
       "      <td>Mkt&amp;HR</td>\n",
       "      <td>59.43</td>\n",
       "      <td>Not Placed</td>\n",
       "      <td>NaN</td>\n",
       "    </tr>\n",
       "    <tr>\n",
       "      <th>4</th>\n",
       "      <td>5</td>\n",
       "      <td>M</td>\n",
       "      <td>85.80</td>\n",
       "      <td>Central</td>\n",
       "      <td>73.60</td>\n",
       "      <td>Central</td>\n",
       "      <td>Commerce</td>\n",
       "      <td>73.30</td>\n",
       "      <td>Comm&amp;Mgmt</td>\n",
       "      <td>No</td>\n",
       "      <td>Mkt&amp;Fin</td>\n",
       "      <td>55.50</td>\n",
       "      <td>Placed</td>\n",
       "      <td>425000.0</td>\n",
       "    </tr>\n",
       "  </tbody>\n",
       "</table>\n",
       "</div>"
      ],
      "text/plain": [
       "   Sno Gender  10th % SSC Board  12th % HSC Board 12th Stream  Degree %  \\\n",
       "0    1      M   67.00    Others   91.00    Others    Commerce     58.00   \n",
       "1    2      M   79.33   Central   78.33    Others     Science     77.48   \n",
       "2    3      M   65.00   Central   68.00   Central        Arts     64.00   \n",
       "3    4      M   56.00   Central   52.00   Central     Science     52.00   \n",
       "4    5      M   85.80   Central   73.60   Central    Commerce     73.30   \n",
       "\n",
       "  Degree stream Work exp specialisation  Mba %      status    salary  \n",
       "0      Sci&Tech       No         Mkt&HR  58.80      Placed  270000.0  \n",
       "1      Sci&Tech      Yes        Mkt&Fin  66.28      Placed  200000.0  \n",
       "2     Comm&Mgmt       No        Mkt&Fin  57.80      Placed  250000.0  \n",
       "3      Sci&Tech       No         Mkt&HR  59.43  Not Placed       NaN  \n",
       "4     Comm&Mgmt       No        Mkt&Fin  55.50      Placed  425000.0  "
      ]
     },
     "execution_count": 2,
     "metadata": {},
     "output_type": "execute_result"
    }
   ],
   "source": [
    "data=pd.read_csv('../input/college-placement-data-set/Placement_Data_Full_Class.csv')\n",
    "print(data.shape)\n",
    "data.head()"
   ]
  },
  {
   "cell_type": "code",
   "execution_count": 3,
   "id": "86ee8611",
   "metadata": {
    "execution": {
     "iopub.execute_input": "2021-10-06T22:26:15.089931Z",
     "iopub.status.busy": "2021-10-06T22:26:15.089374Z",
     "iopub.status.idle": "2021-10-06T22:26:15.272015Z",
     "shell.execute_reply": "2021-10-06T22:26:15.271560Z",
     "shell.execute_reply.started": "2021-10-06T22:24:24.142942Z"
    },
    "papermill": {
     "duration": 0.20475,
     "end_time": "2021-10-06T22:26:15.272149",
     "exception": false,
     "start_time": "2021-10-06T22:26:15.067399",
     "status": "completed"
    },
    "tags": []
   },
   "outputs": [
    {
     "data": {
      "text/plain": [
       "<AxesSubplot:>"
      ]
     },
     "execution_count": 3,
     "metadata": {},
     "output_type": "execute_result"
    },
    {
     "data": {
      "image/png": "[encoded data removed]",
      "text/plain": [
       "<Figure size 432x288 with 1 Axes>"
      ]
     },
     "metadata": {
      "needs_background": "light"
     },
     "output_type": "display_data"
    }
   ],
   "source": [
    "data['status'].value_counts().plot.bar()"
   ]
  },
  {
   "cell_type": "code",
   "execution_count": 4,
   "id": "aa319df1",
   "metadata": {
    "execution": {
     "iopub.execute_input": "2021-10-06T22:26:15.318071Z",
     "iopub.status.busy": "2021-10-06T22:26:15.317512Z",
     "iopub.status.idle": "2021-10-06T22:26:15.468278Z",
     "shell.execute_reply": "2021-10-06T22:26:15.468778Z",
     "shell.execute_reply.started": "2021-10-06T22:24:24.303445Z"
    },
    "papermill": {
     "duration": 0.176889,
     "end_time": "2021-10-06T22:26:15.468957",
     "exception": false,
     "start_time": "2021-10-06T22:26:15.292068",
     "status": "completed"
    },
    "tags": []
   },
   "outputs": [
    {
     "data": {
      "text/plain": [
       "<AxesSubplot:xlabel='status,Work exp'>"
      ]
     },
     "execution_count": 4,
     "metadata": {},
     "output_type": "execute_result"
    },
    {
     "data": {
      "image/png": "[encoded data removed]",
      "text/plain": [
       "<Figure size 432x288 with 1 Axes>"
      ]
     },
     "metadata": {
      "needs_background": "light"
     },
     "output_type": "display_data"
    }
   ],
   "source": [
    "data[['status', 'Work exp']].value_counts().plot.bar()"
   ]
  },
  {
   "cell_type": "code",
   "execution_count": 5,
   "id": "a12135dd",
   "metadata": {
    "execution": {
     "iopub.execute_input": "2021-10-06T22:26:15.512986Z",
     "iopub.status.busy": "2021-10-06T22:26:15.512438Z",
     "iopub.status.idle": "2021-10-06T22:26:15.523961Z",
     "shell.execute_reply": "2021-10-06T22:26:15.523506Z",
     "shell.execute_reply.started": "2021-10-06T22:24:24.485981Z"
    },
    "papermill": {
     "duration": 0.034356,
     "end_time": "2021-10-06T22:26:15.524092",
     "exception": false,
     "start_time": "2021-10-06T22:26:15.489736",
     "status": "completed"
    },
    "tags": []
   },
   "outputs": [
    {
     "data": {
      "text/html": [
       "<div>\n",
       "<style scoped>\n",
       "    .dataframe tbody tr th:only-of-type {\n",
       "        vertical-align: middle;\n",
       "    }\n",
       "\n",
       "    .dataframe tbody tr th {\n",
       "        vertical-align: top;\n",
       "    }\n",
       "\n",
       "    .dataframe thead th {\n",
       "        text-align: right;\n",
       "    }\n",
       "</style>\n",
       "<table border=\"1\" class=\"dataframe\">\n",
       "  <thead>\n",
       "    <tr style=\"text-align: right;\">\n",
       "      <th></th>\n",
       "      <th>status</th>\n",
       "      <th>Work exp</th>\n",
       "    </tr>\n",
       "  </thead>\n",
       "  <tbody>\n",
       "    <tr>\n",
       "      <th>0</th>\n",
       "      <td>Placed</td>\n",
       "      <td>No</td>\n",
       "    </tr>\n",
       "    <tr>\n",
       "      <th>1</th>\n",
       "      <td>Placed</td>\n",
       "      <td>Yes</td>\n",
       "    </tr>\n",
       "    <tr>\n",
       "      <th>2</th>\n",
       "      <td>Placed</td>\n",
       "      <td>No</td>\n",
       "    </tr>\n",
       "    <tr>\n",
       "      <th>3</th>\n",
       "      <td>Not Placed</td>\n",
       "      <td>No</td>\n",
       "    </tr>\n",
       "    <tr>\n",
       "      <th>4</th>\n",
       "      <td>Placed</td>\n",
       "      <td>No</td>\n",
       "    </tr>\n",
       "    <tr>\n",
       "      <th>...</th>\n",
       "      <td>...</td>\n",
       "      <td>...</td>\n",
       "    </tr>\n",
       "    <tr>\n",
       "      <th>210</th>\n",
       "      <td>Placed</td>\n",
       "      <td>No</td>\n",
       "    </tr>\n",
       "    <tr>\n",
       "      <th>211</th>\n",
       "      <td>Placed</td>\n",
       "      <td>No</td>\n",
       "    </tr>\n",
       "    <tr>\n",
       "      <th>212</th>\n",
       "      <td>Placed</td>\n",
       "      <td>Yes</td>\n",
       "    </tr>\n",
       "    <tr>\n",
       "      <th>213</th>\n",
       "      <td>Placed</td>\n",
       "      <td>No</td>\n",
       "    </tr>\n",
       "    <tr>\n",
       "      <th>214</th>\n",
       "      <td>Not Placed</td>\n",
       "      <td>No</td>\n",
       "    </tr>\n",
       "  </tbody>\n",
       "</table>\n",
       "<p>215 rows × 2 columns</p>\n",
       "</div>"
      ],
      "text/plain": [
       "         status Work exp\n",
       "0        Placed       No\n",
       "1        Placed      Yes\n",
       "2        Placed       No\n",
       "3    Not Placed       No\n",
       "4        Placed       No\n",
       "..          ...      ...\n",
       "210      Placed       No\n",
       "211      Placed       No\n",
       "212      Placed      Yes\n",
       "213      Placed       No\n",
       "214  Not Placed       No\n",
       "\n",
       "[215 rows x 2 columns]"
      ]
     },
     "execution_count": 5,
     "metadata": {},
     "output_type": "execute_result"
    }
   ],
   "source": [
    "df2 = data[['status', 'Work exp']]\n",
    "df2"
   ]
  },
  {
   "cell_type": "code",
   "execution_count": 6,
   "id": "2d3c0cc2",
   "metadata": {
    "execution": {
     "iopub.execute_input": "2021-10-06T22:26:15.571870Z",
     "iopub.status.busy": "2021-10-06T22:26:15.571262Z",
     "iopub.status.idle": "2021-10-06T22:26:15.579178Z",
     "shell.execute_reply": "2021-10-06T22:26:15.579595Z",
     "shell.execute_reply.started": "2021-10-06T22:24:24.499815Z"
    },
    "papermill": {
     "duration": 0.034553,
     "end_time": "2021-10-06T22:26:15.579764",
     "exception": false,
     "start_time": "2021-10-06T22:26:15.545211",
     "status": "completed"
    },
    "tags": []
   },
   "outputs": [
    {
     "data": {
      "text/plain": [
       "Work exp  status    \n",
       "No        Placed        84\n",
       "          Not Placed    57\n",
       "Yes       Placed        64\n",
       "          Not Placed    10\n",
       "Name: status, dtype: int64"
      ]
     },
     "execution_count": 6,
     "metadata": {},
     "output_type": "execute_result"
    }
   ],
   "source": [
    "df2.groupby('Work exp')['status'].value_counts()"
   ]
  },
  {
   "cell_type": "markdown",
   "id": "3e727578",
   "metadata": {
    "papermill": {
     "duration": 0.022077,
     "end_time": "2021-10-06T22:26:15.623500",
     "exception": false,
     "start_time": "2021-10-06T22:26:15.601423",
     "status": "completed"
    },
    "tags": []
   },
   "source": [
    "# Checking Null & Duplicate Values"
   ]
  },
  {
   "cell_type": "code",
   "execution_count": 7,
   "id": "ee494274",
   "metadata": {
    "execution": {
     "iopub.execute_input": "2021-10-06T22:26:15.671729Z",
     "iopub.status.busy": "2021-10-06T22:26:15.669629Z",
     "iopub.status.idle": "2021-10-06T22:26:15.674779Z",
     "shell.execute_reply": "2021-10-06T22:26:15.674246Z",
     "shell.execute_reply.started": "2021-10-06T22:24:24.516302Z"
    },
    "papermill": {
     "duration": 0.029723,
     "end_time": "2021-10-06T22:26:15.674910",
     "exception": false,
     "start_time": "2021-10-06T22:26:15.645187",
     "status": "completed"
    },
    "tags": []
   },
   "outputs": [
    {
     "data": {
      "text/plain": [
       "(215, 14)"
      ]
     },
     "execution_count": 7,
     "metadata": {},
     "output_type": "execute_result"
    }
   ],
   "source": [
    "data.shape # Checking the number of rows and columns"
   ]
  },
  {
   "cell_type": "code",
   "execution_count": 8,
   "id": "ad78edec",
   "metadata": {
    "execution": {
     "iopub.execute_input": "2021-10-06T22:26:15.726880Z",
     "iopub.status.busy": "2021-10-06T22:26:15.725959Z",
     "iopub.status.idle": "2021-10-06T22:26:15.729616Z",
     "shell.execute_reply": "2021-10-06T22:26:15.729997Z",
     "shell.execute_reply.started": "2021-10-06T22:24:24.529061Z"
    },
    "papermill": {
     "duration": 0.033329,
     "end_time": "2021-10-06T22:26:15.730156",
     "exception": false,
     "start_time": "2021-10-06T22:26:15.696827",
     "status": "completed"
    },
    "tags": []
   },
   "outputs": [
    {
     "data": {
      "text/plain": [
       "Sno                0\n",
       "Gender             0\n",
       "10th %             0\n",
       "SSC Board          0\n",
       "12th %             0\n",
       "HSC Board          0\n",
       "12th Stream        0\n",
       "Degree %           0\n",
       "Degree stream      0\n",
       "Work exp           0\n",
       "specialisation     0\n",
       "Mba %              0\n",
       "status             0\n",
       "salary            67\n",
       "dtype: int64"
      ]
     },
     "execution_count": 8,
     "metadata": {},
     "output_type": "execute_result"
    }
   ],
   "source": [
    "data.isnull().sum()      # Salary variable has 67 null values"
   ]
  },
  {
   "cell_type": "code",
   "execution_count": 9,
   "id": "15208a40",
   "metadata": {
    "execution": {
     "iopub.execute_input": "2021-10-06T22:26:15.785891Z",
     "iopub.status.busy": "2021-10-06T22:26:15.785262Z",
     "iopub.status.idle": "2021-10-06T22:26:15.787605Z",
     "shell.execute_reply": "2021-10-06T22:26:15.788099Z",
     "shell.execute_reply.started": "2021-10-06T22:24:24.544137Z"
    },
    "papermill": {
     "duration": 0.036127,
     "end_time": "2021-10-06T22:26:15.788285",
     "exception": false,
     "start_time": "2021-10-06T22:26:15.752158",
     "status": "completed"
    },
    "tags": []
   },
   "outputs": [
    {
     "data": {
      "text/plain": [
       "0"
      ]
     },
     "execution_count": 9,
     "metadata": {},
     "output_type": "execute_result"
    }
   ],
   "source": [
    "data.duplicated().sum()     # We don't have any duplicated values"
   ]
  },
  {
   "cell_type": "markdown",
   "id": "b8331c93",
   "metadata": {
    "papermill": {
     "duration": 0.022136,
     "end_time": "2021-10-06T22:26:15.832599",
     "exception": false,
     "start_time": "2021-10-06T22:26:15.810463",
     "status": "completed"
    },
    "tags": []
   },
   "source": [
    "# Understanding the Data Set"
   ]
  },
  {
   "cell_type": "code",
   "execution_count": 10,
   "id": "258b768d",
   "metadata": {
    "execution": {
     "iopub.execute_input": "2021-10-06T22:26:15.880118Z",
     "iopub.status.busy": "2021-10-06T22:26:15.879549Z",
     "iopub.status.idle": "2021-10-06T22:26:15.884676Z",
     "shell.execute_reply": "2021-10-06T22:26:15.885121Z",
     "shell.execute_reply.started": "2021-10-06T22:24:24.559524Z"
    },
    "papermill": {
     "duration": 0.030439,
     "end_time": "2021-10-06T22:26:15.885272",
     "exception": false,
     "start_time": "2021-10-06T22:26:15.854833",
     "status": "completed"
    },
    "tags": []
   },
   "outputs": [
    {
     "data": {
      "text/plain": [
       "Sno                 int64\n",
       "Gender             object\n",
       "10th %            float64\n",
       "SSC Board          object\n",
       "12th %            float64\n",
       "HSC Board          object\n",
       "12th Stream        object\n",
       "Degree %          float64\n",
       "Degree stream      object\n",
       "Work exp           object\n",
       "specialisation     object\n",
       "Mba %             float64\n",
       "status             object\n",
       "salary            float64\n",
       "dtype: object"
      ]
     },
     "execution_count": 10,
     "metadata": {},
     "output_type": "execute_result"
    }
   ],
   "source": [
    "data.dtypes     # Shows the data type of each variable"
   ]
  },
  {
   "cell_type": "code",
   "execution_count": 11,
   "id": "7a92d8a0",
   "metadata": {
    "execution": {
     "iopub.execute_input": "2021-10-06T22:26:15.934978Z",
     "iopub.status.busy": "2021-10-06T22:26:15.934434Z",
     "iopub.status.idle": "2021-10-06T22:26:15.962463Z",
     "shell.execute_reply": "2021-10-06T22:26:15.962872Z",
     "shell.execute_reply.started": "2021-10-06T22:24:24.570717Z"
    },
    "papermill": {
     "duration": 0.054928,
     "end_time": "2021-10-06T22:26:15.963034",
     "exception": false,
     "start_time": "2021-10-06T22:26:15.908106",
     "status": "completed"
    },
    "tags": []
   },
   "outputs": [
    {
     "data": {
      "text/html": [
       "<div>\n",
       "<style scoped>\n",
       "    .dataframe tbody tr th:only-of-type {\n",
       "        vertical-align: middle;\n",
       "    }\n",
       "\n",
       "    .dataframe tbody tr th {\n",
       "        vertical-align: top;\n",
       "    }\n",
       "\n",
       "    .dataframe thead th {\n",
       "        text-align: right;\n",
       "    }\n",
       "</style>\n",
       "<table border=\"1\" class=\"dataframe\">\n",
       "  <thead>\n",
       "    <tr style=\"text-align: right;\">\n",
       "      <th></th>\n",
       "      <th>Sno</th>\n",
       "      <th>10th %</th>\n",
       "      <th>12th %</th>\n",
       "      <th>Degree %</th>\n",
       "      <th>Mba %</th>\n",
       "      <th>salary</th>\n",
       "    </tr>\n",
       "  </thead>\n",
       "  <tbody>\n",
       "    <tr>\n",
       "      <th>count</th>\n",
       "      <td>215.0</td>\n",
       "      <td>215.0</td>\n",
       "      <td>215.0</td>\n",
       "      <td>215.0</td>\n",
       "      <td>215.0</td>\n",
       "      <td>148.0</td>\n",
       "    </tr>\n",
       "    <tr>\n",
       "      <th>mean</th>\n",
       "      <td>108.0</td>\n",
       "      <td>67.0</td>\n",
       "      <td>66.0</td>\n",
       "      <td>66.0</td>\n",
       "      <td>62.0</td>\n",
       "      <td>288655.0</td>\n",
       "    </tr>\n",
       "    <tr>\n",
       "      <th>std</th>\n",
       "      <td>62.0</td>\n",
       "      <td>11.0</td>\n",
       "      <td>11.0</td>\n",
       "      <td>7.0</td>\n",
       "      <td>6.0</td>\n",
       "      <td>93457.0</td>\n",
       "    </tr>\n",
       "    <tr>\n",
       "      <th>min</th>\n",
       "      <td>1.0</td>\n",
       "      <td>41.0</td>\n",
       "      <td>37.0</td>\n",
       "      <td>50.0</td>\n",
       "      <td>51.0</td>\n",
       "      <td>200000.0</td>\n",
       "    </tr>\n",
       "    <tr>\n",
       "      <th>25%</th>\n",
       "      <td>54.0</td>\n",
       "      <td>61.0</td>\n",
       "      <td>61.0</td>\n",
       "      <td>61.0</td>\n",
       "      <td>58.0</td>\n",
       "      <td>240000.0</td>\n",
       "    </tr>\n",
       "    <tr>\n",
       "      <th>50%</th>\n",
       "      <td>108.0</td>\n",
       "      <td>67.0</td>\n",
       "      <td>65.0</td>\n",
       "      <td>66.0</td>\n",
       "      <td>62.0</td>\n",
       "      <td>265000.0</td>\n",
       "    </tr>\n",
       "    <tr>\n",
       "      <th>75%</th>\n",
       "      <td>162.0</td>\n",
       "      <td>76.0</td>\n",
       "      <td>73.0</td>\n",
       "      <td>72.0</td>\n",
       "      <td>66.0</td>\n",
       "      <td>300000.0</td>\n",
       "    </tr>\n",
       "    <tr>\n",
       "      <th>max</th>\n",
       "      <td>215.0</td>\n",
       "      <td>89.0</td>\n",
       "      <td>98.0</td>\n",
       "      <td>91.0</td>\n",
       "      <td>78.0</td>\n",
       "      <td>940000.0</td>\n",
       "    </tr>\n",
       "  </tbody>\n",
       "</table>\n",
       "</div>"
      ],
      "text/plain": [
       "         Sno  10th %  12th %  Degree %  Mba %    salary\n",
       "count  215.0   215.0   215.0     215.0  215.0     148.0\n",
       "mean   108.0    67.0    66.0      66.0   62.0  288655.0\n",
       "std     62.0    11.0    11.0       7.0    6.0   93457.0\n",
       "min      1.0    41.0    37.0      50.0   51.0  200000.0\n",
       "25%     54.0    61.0    61.0      61.0   58.0  240000.0\n",
       "50%    108.0    67.0    65.0      66.0   62.0  265000.0\n",
       "75%    162.0    76.0    73.0      72.0   66.0  300000.0\n",
       "max    215.0    89.0    98.0      91.0   78.0  940000.0"
      ]
     },
     "execution_count": 11,
     "metadata": {},
     "output_type": "execute_result"
    }
   ],
   "source": [
    "data.describe().round()  # Gives the statistical Summary of numeric Variables"
   ]
  },
  {
   "cell_type": "markdown",
   "id": "8744af29",
   "metadata": {
    "papermill": {
     "duration": 0.023336,
     "end_time": "2021-10-06T22:26:16.009500",
     "exception": false,
     "start_time": "2021-10-06T22:26:15.986164",
     "status": "completed"
    },
    "tags": []
   },
   "source": [
    "# Univariate Analysis"
   ]
  },
  {
   "cell_type": "code",
   "execution_count": 12,
   "id": "0a1f2f7c",
   "metadata": {
    "execution": {
     "iopub.execute_input": "2021-10-06T22:26:16.060474Z",
     "iopub.status.busy": "2021-10-06T22:26:16.059541Z",
     "iopub.status.idle": "2021-10-06T22:26:16.067880Z",
     "shell.execute_reply": "2021-10-06T22:26:16.068419Z",
     "shell.execute_reply.started": "2021-10-06T22:24:24.604790Z"
    },
    "papermill": {
     "duration": 0.035561,
     "end_time": "2021-10-06T22:26:16.068583",
     "exception": false,
     "start_time": "2021-10-06T22:26:16.033022",
     "status": "completed"
    },
    "tags": []
   },
   "outputs": [
    {
     "data": {
      "text/plain": [
       "M    139\n",
       "F     76\n",
       "Name: Gender, dtype: int64"
      ]
     },
     "execution_count": 12,
     "metadata": {},
     "output_type": "execute_result"
    }
   ],
   "source": [
    "data['Gender'].value_counts()  # There are 139 Males and 76 Females "
   ]
  },
  {
   "cell_type": "code",
   "execution_count": 13,
   "id": "e082aa11",
   "metadata": {
    "execution": {
     "iopub.execute_input": "2021-10-06T22:26:16.133536Z",
     "iopub.status.busy": "2021-10-06T22:26:16.132612Z",
     "iopub.status.idle": "2021-10-06T22:26:16.140456Z",
     "shell.execute_reply": "2021-10-06T22:26:16.141181Z",
     "shell.execute_reply.started": "2021-10-06T22:24:24.615954Z"
    },
    "papermill": {
     "duration": 0.046051,
     "end_time": "2021-10-06T22:26:16.141441",
     "exception": false,
     "start_time": "2021-10-06T22:26:16.095390",
     "status": "completed"
    },
    "tags": []
   },
   "outputs": [
    {
     "data": {
      "text/plain": [
       "Central    116\n",
       "Others      99\n",
       "Name: SSC Board, dtype: int64"
      ]
     },
     "execution_count": 13,
     "metadata": {},
     "output_type": "execute_result"
    }
   ],
   "source": [
    "data['SSC Board'].value_counts() # Hence, 116 Students were from Central Board in 10th Class"
   ]
  },
  {
   "cell_type": "code",
   "execution_count": 14,
   "id": "080ebd5c",
   "metadata": {
    "execution": {
     "iopub.execute_input": "2021-10-06T22:26:16.199071Z",
     "iopub.status.busy": "2021-10-06T22:26:16.194884Z",
     "iopub.status.idle": "2021-10-06T22:26:16.202734Z",
     "shell.execute_reply": "2021-10-06T22:26:16.202244Z",
     "shell.execute_reply.started": "2021-10-06T22:24:24.625295Z"
    },
    "papermill": {
     "duration": 0.034125,
     "end_time": "2021-10-06T22:26:16.202872",
     "exception": false,
     "start_time": "2021-10-06T22:26:16.168747",
     "status": "completed"
    },
    "tags": []
   },
   "outputs": [
    {
     "data": {
      "text/plain": [
       "Others     131\n",
       "Central     84\n",
       "Name: HSC Board, dtype: int64"
      ]
     },
     "execution_count": 14,
     "metadata": {},
     "output_type": "execute_result"
    }
   ],
   "source": [
    "data['HSC Board'].value_counts() # Hence, Only 84 Students were from Central Board in 12th Class"
   ]
  },
  {
   "cell_type": "code",
   "execution_count": 15,
   "id": "8b30f296",
   "metadata": {
    "execution": {
     "iopub.execute_input": "2021-10-06T22:26:16.254273Z",
     "iopub.status.busy": "2021-10-06T22:26:16.253397Z",
     "iopub.status.idle": "2021-10-06T22:26:16.260241Z",
     "shell.execute_reply": "2021-10-06T22:26:16.260753Z",
     "shell.execute_reply.started": "2021-10-06T22:24:24.638460Z"
    },
    "papermill": {
     "duration": 0.034298,
     "end_time": "2021-10-06T22:26:16.260911",
     "exception": false,
     "start_time": "2021-10-06T22:26:16.226613",
     "status": "completed"
    },
    "tags": []
   },
   "outputs": [
    {
     "data": {
      "text/plain": [
       "Commerce    113\n",
       "Science      91\n",
       "Arts         11\n",
       "Name: 12th Stream, dtype: int64"
      ]
     },
     "execution_count": 15,
     "metadata": {},
     "output_type": "execute_result"
    }
   ],
   "source": [
    "data['12th Stream'].value_counts() # Hence, 113 students taken Commerce as compared to 91 science and 11 Arts"
   ]
  },
  {
   "cell_type": "code",
   "execution_count": 16,
   "id": "40dcf385",
   "metadata": {
    "execution": {
     "iopub.execute_input": "2021-10-06T22:26:16.316694Z",
     "iopub.status.busy": "2021-10-06T22:26:16.315948Z",
     "iopub.status.idle": "2021-10-06T22:26:16.319643Z",
     "shell.execute_reply": "2021-10-06T22:26:16.319143Z",
     "shell.execute_reply.started": "2021-10-06T22:24:24.653155Z"
    },
    "papermill": {
     "duration": 0.034691,
     "end_time": "2021-10-06T22:26:16.319777",
     "exception": false,
     "start_time": "2021-10-06T22:26:16.285086",
     "status": "completed"
    },
    "tags": []
   },
   "outputs": [
    {
     "data": {
      "text/plain": [
       "Comm&Mgmt    145\n",
       "Sci&Tech      59\n",
       "Others        11\n",
       "Name: Degree stream, dtype: int64"
      ]
     },
     "execution_count": 16,
     "metadata": {},
     "output_type": "execute_result"
    }
   ],
   "source": [
    "data['Degree stream'].value_counts() # In Degree, 145 were from Commerce & Managment, as compared to 59 Science & 11 others"
   ]
  },
  {
   "cell_type": "code",
   "execution_count": 17,
   "id": "0c409591",
   "metadata": {
    "execution": {
     "iopub.execute_input": "2021-10-06T22:26:16.371887Z",
     "iopub.status.busy": "2021-10-06T22:26:16.371248Z",
     "iopub.status.idle": "2021-10-06T22:26:16.377294Z",
     "shell.execute_reply": "2021-10-06T22:26:16.377723Z",
     "shell.execute_reply.started": "2021-10-06T22:24:24.665989Z"
    },
    "papermill": {
     "duration": 0.033935,
     "end_time": "2021-10-06T22:26:16.377879",
     "exception": false,
     "start_time": "2021-10-06T22:26:16.343944",
     "status": "completed"
    },
    "tags": []
   },
   "outputs": [
    {
     "name": "stdout",
     "output_type": "stream",
     "text": [
      "No     141\n",
      "Yes     74\n",
      "Name: Work exp, dtype: int64\n"
     ]
    }
   ],
   "source": [
    "st = data['Work exp'].value_counts() # Therfore, Maximum of 141 students didn't have Experience as compared to 74 Experienced panda seris\n",
    "print(st)"
   ]
  },
  {
   "cell_type": "code",
   "execution_count": 18,
   "id": "0c8c857d",
   "metadata": {
    "execution": {
     "iopub.execute_input": "2021-10-06T22:26:16.439434Z",
     "iopub.status.busy": "2021-10-06T22:26:16.438815Z",
     "iopub.status.idle": "2021-10-06T22:26:16.446017Z",
     "shell.execute_reply": "2021-10-06T22:26:16.448610Z",
     "shell.execute_reply.started": "2021-10-06T22:24:24.677211Z"
    },
    "papermill": {
     "duration": 0.04278,
     "end_time": "2021-10-06T22:26:16.448774",
     "exception": false,
     "start_time": "2021-10-06T22:26:16.405994",
     "status": "completed"
    },
    "tags": []
   },
   "outputs": [
    {
     "data": {
      "text/plain": [
       "Mkt&Fin    120\n",
       "Mkt&HR      95\n",
       "Name: specialisation, dtype: int64"
      ]
     },
     "execution_count": 18,
     "metadata": {},
     "output_type": "execute_result"
    }
   ],
   "source": [
    "data['specialisation'].value_counts() # 120 students have Specialization in Marketing-finance and 95 in Marketing-HR"
   ]
  },
  {
   "cell_type": "code",
   "execution_count": 19,
   "id": "0baa9628",
   "metadata": {
    "execution": {
     "iopub.execute_input": "2021-10-06T22:26:16.522237Z",
     "iopub.status.busy": "2021-10-06T22:26:16.521664Z",
     "iopub.status.idle": "2021-10-06T22:26:16.527952Z",
     "shell.execute_reply": "2021-10-06T22:26:16.528357Z",
     "shell.execute_reply.started": "2021-10-06T22:24:24.687009Z"
    },
    "papermill": {
     "duration": 0.04084,
     "end_time": "2021-10-06T22:26:16.528518",
     "exception": false,
     "start_time": "2021-10-06T22:26:16.487678",
     "status": "completed"
    },
    "tags": []
   },
   "outputs": [
    {
     "data": {
      "text/plain": [
       "Placed        148\n",
       "Not Placed     67\n",
       "Name: status, dtype: int64"
      ]
     },
     "execution_count": 19,
     "metadata": {},
     "output_type": "execute_result"
    }
   ],
   "source": [
    "data['status'].value_counts() # 148 students got placed as compared to 67 not placed students"
   ]
  },
  {
   "cell_type": "markdown",
   "id": "431934fa",
   "metadata": {
    "papermill": {
     "duration": 0.024686,
     "end_time": "2021-10-06T22:26:16.578263",
     "exception": false,
     "start_time": "2021-10-06T22:26:16.553577",
     "status": "completed"
    },
    "tags": []
   },
   "source": [
    "# Univariate Barplot Visualization"
   ]
  },
  {
   "cell_type": "code",
   "execution_count": 20,
   "id": "f24b1b8d",
   "metadata": {
    "execution": {
     "iopub.execute_input": "2021-10-06T22:26:16.632557Z",
     "iopub.status.busy": "2021-10-06T22:26:16.631963Z",
     "iopub.status.idle": "2021-10-06T22:26:16.634150Z",
     "shell.execute_reply": "2021-10-06T22:26:16.634593Z",
     "shell.execute_reply.started": "2021-10-06T22:24:24.703334Z"
    },
    "papermill": {
     "duration": 0.031773,
     "end_time": "2021-10-06T22:26:16.634745",
     "exception": false,
     "start_time": "2021-10-06T22:26:16.602972",
     "status": "completed"
    },
    "tags": []
   },
   "outputs": [],
   "source": [
    "def barplot(col,col1,datas,color):\n",
    "    sns.barplot(x=col, y=col1 ,data=datas, palette=color)\n",
    "    plt.show()"
   ]
  },
  {
   "cell_type": "code",
   "execution_count": 21,
   "id": "f495daf0",
   "metadata": {
    "execution": {
     "iopub.execute_input": "2021-10-06T22:26:16.688361Z",
     "iopub.status.busy": "2021-10-06T22:26:16.687414Z",
     "iopub.status.idle": "2021-10-06T22:26:18.493158Z",
     "shell.execute_reply": "2021-10-06T22:26:18.493870Z",
     "shell.execute_reply.started": "2021-10-06T22:24:24.708758Z"
    },
    "papermill": {
     "duration": 1.834542,
     "end_time": "2021-10-06T22:26:18.494125",
     "exception": false,
     "start_time": "2021-10-06T22:26:16.659583",
     "status": "completed"
    },
    "tags": []
   },
   "outputs": [
    {
     "data": {
      "image/png": "[encoded data removed]",
      "text/plain": [
       "<Figure size 432x288 with 1 Axes>"
      ]
     },
     "metadata": {
      "needs_background": "light"
     },
     "output_type": "display_data"
    },
    {
     "data": {
      "image/png": "[encoded data removed]",
      "text/plain": [
       "<Figure size 432x288 with 1 Axes>"
      ]
     },
     "metadata": {
      "needs_background": "light"
     },
     "output_type": "display_data"
    },
    {
     "data": {
      "image/png": "[encoded data removed]",
      "text/plain": [
       "<Figure size 432x288 with 1 Axes>"
      ]
     },
     "metadata": {
      "needs_background": "light"
     },
     "output_type": "display_data"
    },
    {
     "data": {
      "image/png": "[encoded data removed]",
      "text/plain": [
       "<Figure size 432x288 with 1 Axes>"
      ]
     },
     "metadata": {
      "needs_background": "light"
     },
     "output_type": "display_data"
    },
    {
     "data": {
      "image/png": "[encoded data removed]",
      "text/plain": [
       "<Figure size 432x288 with 1 Axes>"
      ]
     },
     "metadata": {
      "needs_background": "light"
     },
     "output_type": "display_data"
    },
    {
     "data": {
      "image/png": "[encoded data removed]",
      "text/plain": [
       "<Figure size 432x288 with 1 Axes>"
      ]
     },
     "metadata": {
      "needs_background": "light"
     },
     "output_type": "display_data"
    },
    {
     "data": {
      "image/png": "[encoded data removed]",
      "text/plain": [
       "<Figure size 432x288 with 1 Axes>"
      ]
     },
     "metadata": {
      "needs_background": "light"
     },
     "output_type": "display_data"
    },
    {
     "data": {
      "image/png": "[encoded data removed]",
      "text/plain": [
       "<Figure size 432x288 with 1 Axes>"
      ]
     },
     "metadata": {
      "needs_background": "light"
     },
     "output_type": "display_data"
    }
   ],
   "source": [
    "barplot('Gender','Sno',data,'Blues_d')\n",
    "barplot('SSC Board','Sno',data,'BuGn')\n",
    "barplot('HSC Board','Sno',data,'Accent')\n",
    "barplot('12th Stream','Sno',data,'Dark2_r') \n",
    "barplot('Degree stream','Sno',data,'Greys')\n",
    "barplot('Work exp','Sno',data,'gist_heat')\n",
    "barplot('specialisation','Sno',data,'icefire')\n",
    "barplot('status','Sno',data,'terrain') \n",
    "#barplot('status','Work exp',data,'Dark2_r') "
   ]
  },
  {
   "cell_type": "markdown",
   "id": "b4d62680",
   "metadata": {
    "papermill": {
     "duration": 0.041037,
     "end_time": "2021-10-06T22:26:18.566257",
     "exception": false,
     "start_time": "2021-10-06T22:26:18.525220",
     "status": "completed"
    },
    "tags": []
   },
   "source": [
    "# Multivariate Analysis Visualzation"
   ]
  },
  {
   "cell_type": "code",
   "execution_count": 22,
   "id": "6c63e62c",
   "metadata": {
    "execution": {
     "iopub.execute_input": "2021-10-06T22:26:18.633230Z",
     "iopub.status.busy": "2021-10-06T22:26:18.632275Z",
     "iopub.status.idle": "2021-10-06T22:26:18.634744Z",
     "shell.execute_reply": "2021-10-06T22:26:18.635444Z",
     "shell.execute_reply.started": "2021-10-06T22:24:26.645805Z"
    },
    "papermill": {
     "duration": 0.038625,
     "end_time": "2021-10-06T22:26:18.635660",
     "exception": false,
     "start_time": "2021-10-06T22:26:18.597035",
     "status": "completed"
    },
    "tags": []
   },
   "outputs": [],
   "source": [
    "def barplot(col,col1,datas,cr,color):\n",
    "    sns.barplot(x=col, y=col1 ,data=datas,hue=cr, palette=color)\n",
    "    plt.show()"
   ]
  },
  {
   "cell_type": "code",
   "execution_count": 23,
   "id": "63af0eb5",
   "metadata": {
    "execution": {
     "iopub.execute_input": "2021-10-06T22:26:18.712118Z",
     "iopub.status.busy": "2021-10-06T22:26:18.711579Z",
     "iopub.status.idle": "2021-10-06T22:26:20.284902Z",
     "shell.execute_reply": "2021-10-06T22:26:20.285366Z",
     "shell.execute_reply.started": "2021-10-06T22:24:26.653710Z"
    },
    "papermill": {
     "duration": 1.611104,
     "end_time": "2021-10-06T22:26:20.285524",
     "exception": false,
     "start_time": "2021-10-06T22:26:18.674420",
     "status": "completed"
    },
    "tags": []
   },
   "outputs": [
    {
     "data": {
      "image/png": "[encoded data removed]",
      "text/plain": [
       "<Figure size 432x288 with 1 Axes>"
      ]
     },
     "metadata": {
      "needs_background": "light"
     },
     "output_type": "display_data"
    },
    {
     "data": {
      "image/png": "[encoded data removed]",
      "text/plain": [
       "<Figure size 432x288 with 1 Axes>"
      ]
     },
     "metadata": {
      "needs_background": "light"
     },
     "output_type": "display_data"
    },
    {
     "data": {
      "image/png": "[encoded data removed]",
      "text/plain": [
       "<Figure size 432x288 with 1 Axes>"
      ]
     },
     "metadata": {
      "needs_background": "light"
     },
     "output_type": "display_data"
    },
    {
     "data": {
      "image/png": "[encoded data removed]",
      "text/plain": [
       "<Figure size 432x288 with 1 Axes>"
      ]
     },
     "metadata": {
      "needs_background": "light"
     },
     "output_type": "display_data"
    },
    {
     "data": {
      "image/png": "[encoded data removed]",
      "text/plain": [
       "<Figure size 432x288 with 1 Axes>"
      ]
     },
     "metadata": {
      "needs_background": "light"
     },
     "output_type": "display_data"
    }
   ],
   "source": [
    "barplot('Gender','10th %',data,'Work exp', 'plasma')\n",
    "barplot('SSC Board','12th %',data,'specialisation', 'hot')\n",
    "barplot('HSC Board','Degree %',data,'status', 'gnuplot')\n",
    "barplot('12th Stream','Mba %',data,'SSC Board', 'hsv')\n",
    "barplot('Degree stream','salary',data,'Gender', 'nipy_spectral_r')"
   ]
  },
  {
   "cell_type": "markdown",
   "id": "82c35051",
   "metadata": {
    "papermill": {
     "duration": 0.031795,
     "end_time": "2021-10-06T22:26:20.349796",
     "exception": false,
     "start_time": "2021-10-06T22:26:20.318001",
     "status": "completed"
    },
    "tags": []
   },
   "source": [
    "# Correlation Matrix Data Frame & Graph"
   ]
  },
  {
   "cell_type": "code",
   "execution_count": 24,
   "id": "398f3e90",
   "metadata": {
    "execution": {
     "iopub.execute_input": "2021-10-06T22:26:20.417060Z",
     "iopub.status.busy": "2021-10-06T22:26:20.416429Z",
     "iopub.status.idle": "2021-10-06T22:26:20.429080Z",
     "shell.execute_reply": "2021-10-06T22:26:20.428553Z",
     "shell.execute_reply.started": "2021-10-06T22:24:28.444004Z"
    },
    "papermill": {
     "duration": 0.047768,
     "end_time": "2021-10-06T22:26:20.429223",
     "exception": false,
     "start_time": "2021-10-06T22:26:20.381455",
     "status": "completed"
    },
    "tags": []
   },
   "outputs": [
    {
     "data": {
      "text/html": [
       "<div>\n",
       "<style scoped>\n",
       "    .dataframe tbody tr th:only-of-type {\n",
       "        vertical-align: middle;\n",
       "    }\n",
       "\n",
       "    .dataframe tbody tr th {\n",
       "        vertical-align: top;\n",
       "    }\n",
       "\n",
       "    .dataframe thead th {\n",
       "        text-align: right;\n",
       "    }\n",
       "</style>\n",
       "<table border=\"1\" class=\"dataframe\">\n",
       "  <thead>\n",
       "    <tr style=\"text-align: right;\">\n",
       "      <th></th>\n",
       "      <th>Sno</th>\n",
       "      <th>10th %</th>\n",
       "      <th>12th %</th>\n",
       "      <th>Degree %</th>\n",
       "      <th>Mba %</th>\n",
       "      <th>salary</th>\n",
       "    </tr>\n",
       "  </thead>\n",
       "  <tbody>\n",
       "    <tr>\n",
       "      <th>Sno</th>\n",
       "      <td>1.000000</td>\n",
       "      <td>-0.078155</td>\n",
       "      <td>-0.085711</td>\n",
       "      <td>-0.088281</td>\n",
       "      <td>0.022327</td>\n",
       "      <td>0.063764</td>\n",
       "    </tr>\n",
       "    <tr>\n",
       "      <th>10th %</th>\n",
       "      <td>-0.078155</td>\n",
       "      <td>1.000000</td>\n",
       "      <td>0.511472</td>\n",
       "      <td>0.538404</td>\n",
       "      <td>0.388478</td>\n",
       "      <td>0.035330</td>\n",
       "    </tr>\n",
       "    <tr>\n",
       "      <th>12th %</th>\n",
       "      <td>-0.085711</td>\n",
       "      <td>0.511472</td>\n",
       "      <td>1.000000</td>\n",
       "      <td>0.434206</td>\n",
       "      <td>0.354823</td>\n",
       "      <td>0.076819</td>\n",
       "    </tr>\n",
       "    <tr>\n",
       "      <th>Degree %</th>\n",
       "      <td>-0.088281</td>\n",
       "      <td>0.538404</td>\n",
       "      <td>0.434206</td>\n",
       "      <td>1.000000</td>\n",
       "      <td>0.402364</td>\n",
       "      <td>-0.019272</td>\n",
       "    </tr>\n",
       "    <tr>\n",
       "      <th>Mba %</th>\n",
       "      <td>0.022327</td>\n",
       "      <td>0.388478</td>\n",
       "      <td>0.354823</td>\n",
       "      <td>0.402364</td>\n",
       "      <td>1.000000</td>\n",
       "      <td>0.175013</td>\n",
       "    </tr>\n",
       "    <tr>\n",
       "      <th>salary</th>\n",
       "      <td>0.063764</td>\n",
       "      <td>0.035330</td>\n",
       "      <td>0.076819</td>\n",
       "      <td>-0.019272</td>\n",
       "      <td>0.175013</td>\n",
       "      <td>1.000000</td>\n",
       "    </tr>\n",
       "  </tbody>\n",
       "</table>\n",
       "</div>"
      ],
      "text/plain": [
       "               Sno    10th %    12th %  Degree %     Mba %    salary\n",
       "Sno       1.000000 -0.078155 -0.085711 -0.088281  0.022327  0.063764\n",
       "10th %   -0.078155  1.000000  0.511472  0.538404  0.388478  0.035330\n",
       "12th %   -0.085711  0.511472  1.000000  0.434206  0.354823  0.076819\n",
       "Degree % -0.088281  0.538404  0.434206  1.000000  0.402364 -0.019272\n",
       "Mba %     0.022327  0.388478  0.354823  0.402364  1.000000  0.175013\n",
       "salary    0.063764  0.035330  0.076819 -0.019272  0.175013  1.000000"
      ]
     },
     "execution_count": 24,
     "metadata": {},
     "output_type": "execute_result"
    }
   ],
   "source": [
    "corr=data.corr()\n",
    "corr"
   ]
  },
  {
   "cell_type": "code",
   "execution_count": 25,
   "id": "fe9cc362",
   "metadata": {
    "execution": {
     "iopub.execute_input": "2021-10-06T22:26:20.543295Z",
     "iopub.status.busy": "2021-10-06T22:26:20.538415Z",
     "iopub.status.idle": "2021-10-06T22:26:20.848479Z",
     "shell.execute_reply": "2021-10-06T22:26:20.848926Z",
     "shell.execute_reply.started": "2021-10-06T22:24:28.457553Z"
    },
    "papermill": {
     "duration": 0.387128,
     "end_time": "2021-10-06T22:26:20.849096",
     "exception": false,
     "start_time": "2021-10-06T22:26:20.461968",
     "status": "completed"
    },
    "tags": []
   },
   "outputs": [
    {
     "data": {
      "image/png": "[encoded data removed]",
      "text/plain": [
       "<Figure size 432x288 with 2 Axes>"
      ]
     },
     "metadata": {
      "needs_background": "light"
     },
     "output_type": "display_data"
    }
   ],
   "source": [
    "sns.heatmap(corr, annot=True)\n",
    "plt.show()"
   ]
  },
  {
   "cell_type": "markdown",
   "id": "07b2623f",
   "metadata": {
    "papermill": {
     "duration": 0.033181,
     "end_time": "2021-10-06T22:26:20.915707",
     "exception": false,
     "start_time": "2021-10-06T22:26:20.882526",
     "status": "completed"
    },
    "tags": []
   },
   "source": [
    "<a href=\"Your file path\"> Download File </a>"
   ]
  }
 ],
 "metadata": {
  "kernelspec": {
   "display_name": "Python 3",
   "language": "python",
   "name": "python3"
  },
  "language_info": {
   "codemirror_mode": {
    "name": "ipython",
    "version": 3
   },
   "file_extension": ".py",
   "mimetype": "text/x-python",
   "name": "python",
   "nbconvert_exporter": "python",
   "pygments_lexer": "ipython3",
   "version": "3.7.10"
  },
  "papermill": {
   "default_parameters": {},
   "duration": 14.668439,
   "end_time": "2021-10-06T22:26:22.118329",
   "environment_variables": {},
   "exception": null,
   "input_path": "__notebook__.ipynb",
   "output_path": "__notebook__.ipynb",
   "parameters": {},
   "start_time": "2021-10-06T22:26:07.449890",
   "version": "2.3.3"
  }
 },
 "nbformat": 4,
 "nbformat_minor": 5
}
