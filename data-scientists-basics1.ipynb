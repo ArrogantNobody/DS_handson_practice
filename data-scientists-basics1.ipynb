{
 "cells": [
  {
   "cell_type": "code",
   "execution_count": 1,
   "id": "08c78d7d",
   "metadata": {
    "_cell_guid": "b1076dfc-b9ad-4769-8c92-a6c4dae69d19",
    "_uuid": "8f2839f25d086af736a60e9eeb907d3b93b6e0e5",
    "execution": {
     "iopub.execute_input": "2021-10-06T22:28:21.185909Z",
     "iopub.status.busy": "2021-10-06T22:28:21.185215Z",
     "iopub.status.idle": "2021-10-06T22:28:22.133243Z",
     "shell.execute_reply": "2021-10-06T22:28:22.132558Z",
     "shell.execute_reply.started": "2021-10-06T22:27:54.943938Z"
    },
    "papermill": {
     "duration": 0.979733,
     "end_time": "2021-10-06T22:28:22.133433",
     "exception": false,
     "start_time": "2021-10-06T22:28:21.153700",
     "status": "completed"
    },
    "tags": []
   },
   "outputs": [
    {
     "name": "stdout",
     "output_type": "stream",
     "text": [
      "/kaggle/input/data-analyst-jobs-datset/DataAnalystJobs.csv\n",
      "The setup is ready\n"
     ]
    }
   ],
   "source": [
    "import numpy as np\n",
    "import pandas as pd\n",
    "from matplotlib import pyplot as plt\n",
    "import seaborn as sns\n",
    "\n",
    "import os\n",
    "for dirname, _, filenames in os.walk('/kaggle/input'):\n",
    "    for filename in filenames:\n",
    "        print(os.path.join(dirname, filename))\n",
    "        \n",
    "print(\"The setup is ready\")"
   ]
  },
  {
   "cell_type": "code",
   "execution_count": 2,
   "id": "921dff0a",
   "metadata": {
    "execution": {
     "iopub.execute_input": "2021-10-06T22:28:22.175884Z",
     "iopub.status.busy": "2021-10-06T22:28:22.175225Z",
     "iopub.status.idle": "2021-10-06T22:28:22.473575Z",
     "shell.execute_reply": "2021-10-06T22:28:22.474285Z",
     "shell.execute_reply.started": "2021-10-06T22:27:55.910723Z"
    },
    "papermill": {
     "duration": 0.321232,
     "end_time": "2021-10-06T22:28:22.474529",
     "exception": false,
     "start_time": "2021-10-06T22:28:22.153297",
     "status": "completed"
    },
    "tags": []
   },
   "outputs": [
    {
     "name": "stdout",
     "output_type": "stream",
     "text": [
      "36048\n",
      "(2253, 16)\n"
     ]
    },
    {
     "data": {
      "text/html": [
       "<div>\n",
       "<style scoped>\n",
       "    .dataframe tbody tr th:only-of-type {\n",
       "        vertical-align: middle;\n",
       "    }\n",
       "\n",
       "    .dataframe tbody tr th {\n",
       "        vertical-align: top;\n",
       "    }\n",
       "\n",
       "    .dataframe thead th {\n",
       "        text-align: right;\n",
       "    }\n",
       "</style>\n",
       "<table border=\"1\" class=\"dataframe\">\n",
       "  <thead>\n",
       "    <tr style=\"text-align: right;\">\n",
       "      <th></th>\n",
       "      <th>Unnamed: 0</th>\n",
       "      <th>Job Title</th>\n",
       "      <th>Salary Estimate</th>\n",
       "      <th>Job Description</th>\n",
       "      <th>Rating</th>\n",
       "      <th>Company Name</th>\n",
       "      <th>Location</th>\n",
       "      <th>Headquarters</th>\n",
       "      <th>Size</th>\n",
       "      <th>Founded</th>\n",
       "      <th>Type of ownership</th>\n",
       "      <th>Industry</th>\n",
       "      <th>Sector</th>\n",
       "      <th>Revenue</th>\n",
       "      <th>Competitors</th>\n",
       "      <th>Easy Apply</th>\n",
       "    </tr>\n",
       "  </thead>\n",
       "  <tbody>\n",
       "    <tr>\n",
       "      <th>0</th>\n",
       "      <td>0</td>\n",
       "      <td>Data Analyst, Center on Immigration and Justic...</td>\n",
       "      <td>$37K-$66K (Glassdoor est.)</td>\n",
       "      <td>Are you eager to roll up your sleeves and harn...</td>\n",
       "      <td>3.2</td>\n",
       "      <td>Vera Institute of Justice\\n3.2</td>\n",
       "      <td>New York, NY</td>\n",
       "      <td>New York, NY</td>\n",
       "      <td>201 to 500 employees</td>\n",
       "      <td>1961</td>\n",
       "      <td>Nonprofit Organization</td>\n",
       "      <td>Social Assistance</td>\n",
       "      <td>Non-Profit</td>\n",
       "      <td>$100 to $500 million (USD)</td>\n",
       "      <td>-1</td>\n",
       "      <td>True</td>\n",
       "    </tr>\n",
       "    <tr>\n",
       "      <th>1</th>\n",
       "      <td>1</td>\n",
       "      <td>Quality Data Analyst</td>\n",
       "      <td>$37K-$66K (Glassdoor est.)</td>\n",
       "      <td>Overview\\n\\nProvides analytical and technical ...</td>\n",
       "      <td>3.8</td>\n",
       "      <td>Visiting Nurse Service of New York\\n3.8</td>\n",
       "      <td>New York, NY</td>\n",
       "      <td>New York, NY</td>\n",
       "      <td>10000+ employees</td>\n",
       "      <td>1893</td>\n",
       "      <td>Nonprofit Organization</td>\n",
       "      <td>Health Care Services &amp; Hospitals</td>\n",
       "      <td>Health Care</td>\n",
       "      <td>$2 to $5 billion (USD)</td>\n",
       "      <td>-1</td>\n",
       "      <td>-1</td>\n",
       "    </tr>\n",
       "    <tr>\n",
       "      <th>2</th>\n",
       "      <td>2</td>\n",
       "      <td>Senior Data Analyst, Insights &amp; Analytics Team...</td>\n",
       "      <td>$37K-$66K (Glassdoor est.)</td>\n",
       "      <td>We’re looking for a Senior Data Analyst who ha...</td>\n",
       "      <td>3.4</td>\n",
       "      <td>Squarespace\\n3.4</td>\n",
       "      <td>New York, NY</td>\n",
       "      <td>New York, NY</td>\n",
       "      <td>1001 to 5000 employees</td>\n",
       "      <td>2003</td>\n",
       "      <td>Company - Private</td>\n",
       "      <td>Internet</td>\n",
       "      <td>Information Technology</td>\n",
       "      <td>Unknown / Non-Applicable</td>\n",
       "      <td>GoDaddy</td>\n",
       "      <td>-1</td>\n",
       "    </tr>\n",
       "    <tr>\n",
       "      <th>3</th>\n",
       "      <td>3</td>\n",
       "      <td>Data Analyst</td>\n",
       "      <td>$37K-$66K (Glassdoor est.)</td>\n",
       "      <td>Requisition NumberRR-0001939\\nRemote:Yes\\nWe c...</td>\n",
       "      <td>4.1</td>\n",
       "      <td>Celerity\\n4.1</td>\n",
       "      <td>New York, NY</td>\n",
       "      <td>McLean, VA</td>\n",
       "      <td>201 to 500 employees</td>\n",
       "      <td>2002</td>\n",
       "      <td>Subsidiary or Business Segment</td>\n",
       "      <td>IT Services</td>\n",
       "      <td>Information Technology</td>\n",
       "      <td>$50 to $100 million (USD)</td>\n",
       "      <td>-1</td>\n",
       "      <td>-1</td>\n",
       "    </tr>\n",
       "    <tr>\n",
       "      <th>4</th>\n",
       "      <td>4</td>\n",
       "      <td>Reporting Data Analyst</td>\n",
       "      <td>$37K-$66K (Glassdoor est.)</td>\n",
       "      <td>ABOUT FANDUEL GROUP\\n\\nFanDuel Group is a worl...</td>\n",
       "      <td>3.9</td>\n",
       "      <td>FanDuel\\n3.9</td>\n",
       "      <td>New York, NY</td>\n",
       "      <td>New York, NY</td>\n",
       "      <td>501 to 1000 employees</td>\n",
       "      <td>2009</td>\n",
       "      <td>Company - Private</td>\n",
       "      <td>Sports &amp; Recreation</td>\n",
       "      <td>Arts, Entertainment &amp; Recreation</td>\n",
       "      <td>$100 to $500 million (USD)</td>\n",
       "      <td>DraftKings</td>\n",
       "      <td>True</td>\n",
       "    </tr>\n",
       "  </tbody>\n",
       "</table>\n",
       "</div>"
      ],
      "text/plain": [
       "   Unnamed: 0                                          Job Title  \\\n",
       "0           0  Data Analyst, Center on Immigration and Justic...   \n",
       "1           1                               Quality Data Analyst   \n",
       "2           2  Senior Data Analyst, Insights & Analytics Team...   \n",
       "3           3                                       Data Analyst   \n",
       "4           4                             Reporting Data Analyst   \n",
       "\n",
       "              Salary Estimate  \\\n",
       "0  $37K-$66K (Glassdoor est.)   \n",
       "1  $37K-$66K (Glassdoor est.)   \n",
       "2  $37K-$66K (Glassdoor est.)   \n",
       "3  $37K-$66K (Glassdoor est.)   \n",
       "4  $37K-$66K (Glassdoor est.)   \n",
       "\n",
       "                                     Job Description  Rating  \\\n",
       "0  Are you eager to roll up your sleeves and harn...     3.2   \n",
       "1  Overview\\n\\nProvides analytical and technical ...     3.8   \n",
       "2  We’re looking for a Senior Data Analyst who ha...     3.4   \n",
       "3  Requisition NumberRR-0001939\\nRemote:Yes\\nWe c...     4.1   \n",
       "4  ABOUT FANDUEL GROUP\\n\\nFanDuel Group is a worl...     3.9   \n",
       "\n",
       "                              Company Name      Location  Headquarters  \\\n",
       "0           Vera Institute of Justice\\n3.2  New York, NY  New York, NY   \n",
       "1  Visiting Nurse Service of New York\\n3.8  New York, NY  New York, NY   \n",
       "2                         Squarespace\\n3.4  New York, NY  New York, NY   \n",
       "3                            Celerity\\n4.1  New York, NY    McLean, VA   \n",
       "4                             FanDuel\\n3.9  New York, NY  New York, NY   \n",
       "\n",
       "                     Size  Founded               Type of ownership  \\\n",
       "0    201 to 500 employees     1961          Nonprofit Organization   \n",
       "1        10000+ employees     1893          Nonprofit Organization   \n",
       "2  1001 to 5000 employees     2003               Company - Private   \n",
       "3    201 to 500 employees     2002  Subsidiary or Business Segment   \n",
       "4   501 to 1000 employees     2009               Company - Private   \n",
       "\n",
       "                           Industry                            Sector  \\\n",
       "0                 Social Assistance                        Non-Profit   \n",
       "1  Health Care Services & Hospitals                       Health Care   \n",
       "2                          Internet            Information Technology   \n",
       "3                       IT Services            Information Technology   \n",
       "4               Sports & Recreation  Arts, Entertainment & Recreation   \n",
       "\n",
       "                      Revenue Competitors Easy Apply  \n",
       "0  $100 to $500 million (USD)          -1       True  \n",
       "1      $2 to $5 billion (USD)          -1         -1  \n",
       "2    Unknown / Non-Applicable     GoDaddy         -1  \n",
       "3   $50 to $100 million (USD)          -1         -1  \n",
       "4  $100 to $500 million (USD)  DraftKings       True  "
      ]
     },
     "execution_count": 2,
     "metadata": {},
     "output_type": "execute_result"
    }
   ],
   "source": [
    "data=pd.read_csv('../input/data-analyst-jobs-datset/DataAnalystJobs.csv')\n",
    "print(data.size)\n",
    "print(data.shape)\n",
    "data.head()"
   ]
  },
  {
   "cell_type": "markdown",
   "id": "0d3e8a00",
   "metadata": {
    "papermill": {
     "duration": 0.019873,
     "end_time": "2021-10-06T22:28:22.519915",
     "exception": false,
     "start_time": "2021-10-06T22:28:22.500042",
     "status": "completed"
    },
    "tags": []
   },
   "source": [
    "# Data Preparation"
   ]
  },
  {
   "cell_type": "code",
   "execution_count": 3,
   "id": "9b2d564e",
   "metadata": {
    "execution": {
     "iopub.execute_input": "2021-10-06T22:28:22.564010Z",
     "iopub.status.busy": "2021-10-06T22:28:22.563314Z",
     "iopub.status.idle": "2021-10-06T22:28:22.593208Z",
     "shell.execute_reply": "2021-10-06T22:28:22.593819Z",
     "shell.execute_reply.started": "2021-10-06T22:27:56.146426Z"
    },
    "papermill": {
     "duration": 0.053843,
     "end_time": "2021-10-06T22:28:22.593987",
     "exception": false,
     "start_time": "2021-10-06T22:28:22.540144",
     "status": "completed"
    },
    "tags": []
   },
   "outputs": [
    {
     "data": {
      "text/html": [
       "<div>\n",
       "<style scoped>\n",
       "    .dataframe tbody tr th:only-of-type {\n",
       "        vertical-align: middle;\n",
       "    }\n",
       "\n",
       "    .dataframe tbody tr th {\n",
       "        vertical-align: top;\n",
       "    }\n",
       "\n",
       "    .dataframe thead th {\n",
       "        text-align: right;\n",
       "    }\n",
       "</style>\n",
       "<table border=\"1\" class=\"dataframe\">\n",
       "  <thead>\n",
       "    <tr style=\"text-align: right;\">\n",
       "      <th></th>\n",
       "      <th>Unnamed: 0</th>\n",
       "      <th>Rating</th>\n",
       "      <th>Founded</th>\n",
       "    </tr>\n",
       "  </thead>\n",
       "  <tbody>\n",
       "    <tr>\n",
       "      <th>count</th>\n",
       "      <td>2253.0000</td>\n",
       "      <td>2253.000000</td>\n",
       "      <td>2253.000000</td>\n",
       "    </tr>\n",
       "    <tr>\n",
       "      <th>mean</th>\n",
       "      <td>1126.0000</td>\n",
       "      <td>3.160630</td>\n",
       "      <td>1398.522858</td>\n",
       "    </tr>\n",
       "    <tr>\n",
       "      <th>std</th>\n",
       "      <td>650.5294</td>\n",
       "      <td>1.665228</td>\n",
       "      <td>901.929251</td>\n",
       "    </tr>\n",
       "    <tr>\n",
       "      <th>min</th>\n",
       "      <td>0.0000</td>\n",
       "      <td>-1.000000</td>\n",
       "      <td>-1.000000</td>\n",
       "    </tr>\n",
       "    <tr>\n",
       "      <th>25%</th>\n",
       "      <td>563.0000</td>\n",
       "      <td>3.100000</td>\n",
       "      <td>-1.000000</td>\n",
       "    </tr>\n",
       "    <tr>\n",
       "      <th>50%</th>\n",
       "      <td>1126.0000</td>\n",
       "      <td>3.600000</td>\n",
       "      <td>1979.000000</td>\n",
       "    </tr>\n",
       "    <tr>\n",
       "      <th>75%</th>\n",
       "      <td>1689.0000</td>\n",
       "      <td>4.000000</td>\n",
       "      <td>2002.000000</td>\n",
       "    </tr>\n",
       "    <tr>\n",
       "      <th>max</th>\n",
       "      <td>2252.0000</td>\n",
       "      <td>5.000000</td>\n",
       "      <td>2019.000000</td>\n",
       "    </tr>\n",
       "  </tbody>\n",
       "</table>\n",
       "</div>"
      ],
      "text/plain": [
       "       Unnamed: 0       Rating      Founded\n",
       "count   2253.0000  2253.000000  2253.000000\n",
       "mean    1126.0000     3.160630  1398.522858\n",
       "std      650.5294     1.665228   901.929251\n",
       "min        0.0000    -1.000000    -1.000000\n",
       "25%      563.0000     3.100000    -1.000000\n",
       "50%     1126.0000     3.600000  1979.000000\n",
       "75%     1689.0000     4.000000  2002.000000\n",
       "max     2252.0000     5.000000  2019.000000"
      ]
     },
     "execution_count": 3,
     "metadata": {},
     "output_type": "execute_result"
    }
   ],
   "source": [
    "data.describe()    # We can see the statistical summary for the following variables, but only for feature with numbers"
   ]
  },
  {
   "cell_type": "code",
   "execution_count": 4,
   "id": "38baf13d",
   "metadata": {
    "execution": {
     "iopub.execute_input": "2021-10-06T22:28:22.639055Z",
     "iopub.status.busy": "2021-10-06T22:28:22.638402Z",
     "iopub.status.idle": "2021-10-06T22:28:22.644962Z",
     "shell.execute_reply": "2021-10-06T22:28:22.645454Z",
     "shell.execute_reply.started": "2021-10-06T22:27:56.188032Z"
    },
    "papermill": {
     "duration": 0.030897,
     "end_time": "2021-10-06T22:28:22.645612",
     "exception": false,
     "start_time": "2021-10-06T22:28:22.614715",
     "status": "completed"
    },
    "tags": []
   },
   "outputs": [
    {
     "data": {
      "text/plain": [
       "Unnamed: 0             int64\n",
       "Job Title             object\n",
       "Salary Estimate       object\n",
       "Job Description       object\n",
       "Rating               float64\n",
       "Company Name          object\n",
       "Location              object\n",
       "Headquarters          object\n",
       "Size                  object\n",
       "Founded                int64\n",
       "Type of ownership     object\n",
       "Industry              object\n",
       "Sector                object\n",
       "Revenue               object\n",
       "Competitors           object\n",
       "Easy Apply            object\n",
       "dtype: object"
      ]
     },
     "execution_count": 4,
     "metadata": {},
     "output_type": "execute_result"
    }
   ],
   "source": [
    "data.dtypes   # This function shows the datatype of each column"
   ]
  },
  {
   "cell_type": "code",
   "execution_count": 5,
   "id": "61329fdb",
   "metadata": {
    "execution": {
     "iopub.execute_input": "2021-10-06T22:28:22.691574Z",
     "iopub.status.busy": "2021-10-06T22:28:22.690614Z",
     "iopub.status.idle": "2021-10-06T22:28:22.701719Z",
     "shell.execute_reply": "2021-10-06T22:28:22.702188Z",
     "shell.execute_reply.started": "2021-10-06T22:27:56.199374Z"
    },
    "papermill": {
     "duration": 0.035842,
     "end_time": "2021-10-06T22:28:22.702372",
     "exception": false,
     "start_time": "2021-10-06T22:28:22.666530",
     "status": "completed"
    },
    "tags": []
   },
   "outputs": [
    {
     "data": {
      "text/plain": [
       "Unnamed: 0           0\n",
       "Job Title            0\n",
       "Salary Estimate      0\n",
       "Job Description      0\n",
       "Rating               0\n",
       "Company Name         1\n",
       "Location             0\n",
       "Headquarters         0\n",
       "Size                 0\n",
       "Founded              0\n",
       "Type of ownership    0\n",
       "Industry             0\n",
       "Sector               0\n",
       "Revenue              0\n",
       "Competitors          0\n",
       "Easy Apply           0\n",
       "dtype: int64"
      ]
     },
     "execution_count": 5,
     "metadata": {},
     "output_type": "execute_result"
    }
   ],
   "source": [
    "data.isnull().sum() # There are no null values, can be drop using df.dropna()"
   ]
  },
  {
   "cell_type": "code",
   "execution_count": 6,
   "id": "98885cbe",
   "metadata": {
    "execution": {
     "iopub.execute_input": "2021-10-06T22:28:22.748451Z",
     "iopub.status.busy": "2021-10-06T22:28:22.747818Z",
     "iopub.status.idle": "2021-10-06T22:28:22.791725Z",
     "shell.execute_reply": "2021-10-06T22:28:22.791137Z",
     "shell.execute_reply.started": "2021-10-06T22:27:56.219741Z"
    },
    "papermill": {
     "duration": 0.068141,
     "end_time": "2021-10-06T22:28:22.791870",
     "exception": false,
     "start_time": "2021-10-06T22:28:22.723729",
     "status": "completed"
    },
    "tags": []
   },
   "outputs": [
    {
     "data": {
      "text/plain": [
       "0       False\n",
       "1       False\n",
       "2       False\n",
       "3       False\n",
       "4       False\n",
       "        ...  \n",
       "2248    False\n",
       "2249    False\n",
       "2250    False\n",
       "2251    False\n",
       "2252    False\n",
       "Length: 2253, dtype: bool"
      ]
     },
     "execution_count": 6,
     "metadata": {},
     "output_type": "execute_result"
    }
   ],
   "source": [
    "data.duplicated()#no duplicate"
   ]
  },
  {
   "cell_type": "code",
   "execution_count": 7,
   "id": "dab06682",
   "metadata": {
    "execution": {
     "iopub.execute_input": "2021-10-06T22:28:22.839617Z",
     "iopub.status.busy": "2021-10-06T22:28:22.838934Z",
     "iopub.status.idle": "2021-10-06T22:28:22.866411Z",
     "shell.execute_reply": "2021-10-06T22:28:22.866864Z",
     "shell.execute_reply.started": "2021-10-06T22:27:56.270960Z"
    },
    "papermill": {
     "duration": 0.052532,
     "end_time": "2021-10-06T22:28:22.867036",
     "exception": false,
     "start_time": "2021-10-06T22:28:22.814504",
     "status": "completed"
    },
    "tags": []
   },
   "outputs": [
    {
     "data": {
      "text/plain": [
       "0"
      ]
     },
     "execution_count": 7,
     "metadata": {},
     "output_type": "execute_result"
    }
   ],
   "source": [
    "data.duplicated().sum()    # Also, there are no duplicate values to remove, if have, can be removed by df.drop_duplicates(subset=['xxx'])"
   ]
  },
  {
   "cell_type": "markdown",
   "id": "ba1f47e7",
   "metadata": {
    "papermill": {
     "duration": 0.022303,
     "end_time": "2021-10-06T22:28:22.911994",
     "exception": false,
     "start_time": "2021-10-06T22:28:22.889691",
     "status": "completed"
    },
    "tags": []
   },
   "source": [
    "# Univariate Analysis"
   ]
  },
  {
   "cell_type": "code",
   "execution_count": 8,
   "id": "7d5524db",
   "metadata": {
    "execution": {
     "iopub.execute_input": "2021-10-06T22:28:22.962384Z",
     "iopub.status.busy": "2021-10-06T22:28:22.961747Z",
     "iopub.status.idle": "2021-10-06T22:28:22.969214Z",
     "shell.execute_reply": "2021-10-06T22:28:22.969804Z",
     "shell.execute_reply.started": "2021-10-06T22:27:56.305131Z"
    },
    "papermill": {
     "duration": 0.034286,
     "end_time": "2021-10-06T22:28:22.969968",
     "exception": false,
     "start_time": "2021-10-06T22:28:22.935682",
     "status": "completed"
    },
    "tags": []
   },
   "outputs": [
    {
     "data": {
      "text/plain": [
       "Staffigo Technical Services, LLC\\n5.0    58\n",
       "Diverse Lynx\\n3.9                        22\n",
       "Kforce\\n4.1                              19\n",
       "Lorven Technologies Inc\\n4.0             19\n",
       "Robert Half\\n3.5                         14\n",
       "Avacend, Inc.\\n2.5                       13\n",
       "Mondo\\n3.9                               11\n",
       "Apex Systems\\n3.8                        10\n",
       "Apple\\n4.1                               10\n",
       "eTeam Inc.\\n3.7                          10\n",
       "Name: Company Name, dtype: int64"
      ]
     },
     "execution_count": 8,
     "metadata": {},
     "output_type": "execute_result"
    }
   ],
   "source": [
    "data['Company Name'].value_counts().head(10)  # These are the Top 10 Companies offering data science jobs"
   ]
  },
  {
   "cell_type": "code",
   "execution_count": 9,
   "id": "50263cd3",
   "metadata": {
    "execution": {
     "iopub.execute_input": "2021-10-06T22:28:23.018952Z",
     "iopub.status.busy": "2021-10-06T22:28:23.018275Z",
     "iopub.status.idle": "2021-10-06T22:28:23.026977Z",
     "shell.execute_reply": "2021-10-06T22:28:23.026470Z",
     "shell.execute_reply.started": "2021-10-06T22:27:56.320623Z"
    },
    "papermill": {
     "duration": 0.033481,
     "end_time": "2021-10-06T22:28:23.027113",
     "exception": false,
     "start_time": "2021-10-06T22:28:22.993632",
     "status": "completed"
    },
    "tags": []
   },
   "outputs": [
    {
     "data": {
      "text/plain": [
       "Data Analyst               405\n",
       "Senior Data Analyst         90\n",
       "Junior Data Analyst         30\n",
       "Business Data Analyst       28\n",
       "Sr. Data Analyst            21\n",
       "Data Analyst Junior         17\n",
       "Data Analyst II             17\n",
       "Data Quality Analyst        17\n",
       "Data Governance Analyst     16\n",
       "Lead Data Analyst           15\n",
       "Data Reporting Analyst      13\n",
       "Financial Data Analyst      12\n",
       "Data Analyst I              11\n",
       "Data Analyst III            11\n",
       "Marketing Data Analyst       9\n",
       "Sr Data Analyst              9\n",
       "Data Management Analyst      8\n",
       "Data Warehouse Analyst       8\n",
       "Data Science Analyst         7\n",
       "Technical Data Analyst       7\n",
       "Name: Job Title, dtype: int64"
      ]
     },
     "execution_count": 9,
     "metadata": {},
     "output_type": "execute_result"
    }
   ],
   "source": [
    "data['Job Title'].value_counts().head(20)  # These are the Top 20  data science job titles "
   ]
  },
  {
   "cell_type": "code",
   "execution_count": 10,
   "id": "436db89d",
   "metadata": {
    "execution": {
     "iopub.execute_input": "2021-10-06T22:28:23.082730Z",
     "iopub.status.busy": "2021-10-06T22:28:23.081999Z",
     "iopub.status.idle": "2021-10-06T22:28:23.084623Z",
     "shell.execute_reply": "2021-10-06T22:28:23.085203Z",
     "shell.execute_reply.started": "2021-10-06T22:27:56.337378Z"
    },
    "papermill": {
     "duration": 0.034906,
     "end_time": "2021-10-06T22:28:23.085384",
     "exception": false,
     "start_time": "2021-10-06T22:28:23.050478",
     "status": "completed"
    },
    "tags": []
   },
   "outputs": [
    {
     "data": {
      "text/plain": [
       "$42K-$76K (Glassdoor est.)     57\n",
       "$41K-$78K (Glassdoor est.)     57\n",
       "$50K-$86K (Glassdoor est.)     41\n",
       "$35K-$67K (Glassdoor est.)     33\n",
       "$43K-$76K (Glassdoor est.)     31\n",
       "$58K-$93K (Glassdoor est.)     31\n",
       "$60K-$124K (Glassdoor est.)    31\n",
       "$37K-$66K (Glassdoor est.)     30\n",
       "$37K-$68K (Glassdoor est.)     30\n",
       "$60K-$66K (Glassdoor est.)     30\n",
       "Name: Salary Estimate, dtype: int64"
      ]
     },
     "execution_count": 10,
     "metadata": {},
     "output_type": "execute_result"
    }
   ],
   "source": [
    "data['Salary Estimate'].value_counts().head(10)  # The Top 10 Salary packages for Data Science Field Jobs"
   ]
  },
  {
   "cell_type": "code",
   "execution_count": 11,
   "id": "229b5c80",
   "metadata": {
    "execution": {
     "iopub.execute_input": "2021-10-06T22:28:23.141234Z",
     "iopub.status.busy": "2021-10-06T22:28:23.136427Z",
     "iopub.status.idle": "2021-10-06T22:28:23.144367Z",
     "shell.execute_reply": "2021-10-06T22:28:23.144807Z",
     "shell.execute_reply.started": "2021-10-06T22:27:56.351079Z"
    },
    "papermill": {
     "duration": 0.035556,
     "end_time": "2021-10-06T22:28:23.144971",
     "exception": false,
     "start_time": "2021-10-06T22:28:23.109415",
     "status": "completed"
    },
    "tags": []
   },
   "outputs": [
    {
     "data": {
      "text/plain": [
       "New York, NY          310\n",
       "Chicago, IL           130\n",
       "San Francisco, CA     119\n",
       "Austin, TX             81\n",
       "Los Angeles, CA        80\n",
       "Charlotte, NC          78\n",
       "Houston, TX            72\n",
       "Dallas, TX             66\n",
       "San Diego, CA          62\n",
       "Philadelphia, PA       56\n",
       "Denver, CO             47\n",
       "San Antonio, TX        45\n",
       "San Jose, CA           38\n",
       "Phoenix, AZ            35\n",
       "Jersey City, NJ        33\n",
       "Tempe, AZ              31\n",
       "Seattle, WA            30\n",
       "Irving, TX             29\n",
       "Columbus, OH           29\n",
       "Plano, TX              28\n",
       "Santa Clara, CA        22\n",
       "Salt Lake City, UT     22\n",
       "El Segundo, CA         19\n",
       "Jacksonville, FL       19\n",
       "San Mateo, CA          18\n",
       "Name: Location, dtype: int64"
      ]
     },
     "execution_count": 11,
     "metadata": {},
     "output_type": "execute_result"
    }
   ],
   "source": [
    "data['Location'].value_counts().head(25)  # Most Job offered Locations in the World in Data Science field"
   ]
  },
  {
   "cell_type": "code",
   "execution_count": 12,
   "id": "100448c3",
   "metadata": {
    "execution": {
     "iopub.execute_input": "2021-10-06T22:28:23.201852Z",
     "iopub.status.busy": "2021-10-06T22:28:23.200938Z",
     "iopub.status.idle": "2021-10-06T22:28:23.204861Z",
     "shell.execute_reply": "2021-10-06T22:28:23.204364Z",
     "shell.execute_reply.started": "2021-10-06T22:27:56.367860Z"
    },
    "papermill": {
     "duration": 0.034781,
     "end_time": "2021-10-06T22:28:23.204989",
     "exception": false,
     "start_time": "2021-10-06T22:28:23.170208",
     "status": "completed"
    },
    "tags": []
   },
   "outputs": [
    {
     "data": {
      "text/plain": [
       "Company - Private                 1273\n",
       "Company - Public                   452\n",
       "-1                                 163\n",
       "Nonprofit Organization             124\n",
       "Subsidiary or Business Segment      89\n",
       "Government                          37\n",
       "College / University                34\n",
       "Hospital                            19\n",
       "Unknown                             16\n",
       "Other Organization                  13\n",
       "Name: Type of ownership, dtype: int64"
      ]
     },
     "execution_count": 12,
     "metadata": {},
     "output_type": "execute_result"
    }
   ],
   "source": [
    "data['Type of ownership'].value_counts().head(10)  # Private Companies more offers jobs as compared to other organizations"
   ]
  },
  {
   "cell_type": "markdown",
   "id": "071dbc33",
   "metadata": {
    "papermill": {
     "duration": 0.023452,
     "end_time": "2021-10-06T22:28:23.252207",
     "exception": false,
     "start_time": "2021-10-06T22:28:23.228755",
     "status": "completed"
    },
    "tags": []
   },
   "source": [
    "# Univariate Visualizations & Graphs"
   ]
  },
  {
   "cell_type": "code",
   "execution_count": 13,
   "id": "fe49ed24",
   "metadata": {
    "execution": {
     "iopub.execute_input": "2021-10-06T22:28:23.323834Z",
     "iopub.status.busy": "2021-10-06T22:28:23.323018Z",
     "iopub.status.idle": "2021-10-06T22:28:23.556643Z",
     "shell.execute_reply": "2021-10-06T22:28:23.555759Z",
     "shell.execute_reply.started": "2021-10-06T22:27:56.385753Z"
    },
    "papermill": {
     "duration": 0.281035,
     "end_time": "2021-10-06T22:28:23.556791",
     "exception": false,
     "start_time": "2021-10-06T22:28:23.275756",
     "status": "completed"
    },
    "tags": []
   },
   "outputs": [
    {
     "data": {
      "image/png": "[encoded data removed]",
      "text/plain": [
       "<Figure size 432x288 with 1 Axes>"
      ]
     },
     "metadata": {
      "needs_background": "light"
     },
     "output_type": "display_data"
    }
   ],
   "source": [
    "sns.histplot(x='Rating', data=data, color='orange', linewidth=1.5, bins=10)\n",
    "plt.show() \n",
    "\n",
    "# Hence, Maximum ratings are in the range of 3 to 4 and 5"
   ]
  },
  {
   "cell_type": "code",
   "execution_count": 14,
   "id": "62e0d106",
   "metadata": {
    "execution": {
     "iopub.execute_input": "2021-10-06T22:28:23.614248Z",
     "iopub.status.busy": "2021-10-06T22:28:23.610856Z",
     "iopub.status.idle": "2021-10-06T22:28:23.829767Z",
     "shell.execute_reply": "2021-10-06T22:28:23.829213Z",
     "shell.execute_reply.started": "2021-10-06T22:27:56.652334Z"
    },
    "papermill": {
     "duration": 0.247644,
     "end_time": "2021-10-06T22:28:23.829909",
     "exception": false,
     "start_time": "2021-10-06T22:28:23.582265",
     "status": "completed"
    },
    "tags": []
   },
   "outputs": [
    {
     "data": {
      "image/png": "[encoded data removed]",
      "text/plain": [
       "<Figure size 432x288 with 1 Axes>"
      ]
     },
     "metadata": {
      "needs_background": "light"
     },
     "output_type": "display_data"
    }
   ],
   "source": [
    "values,base=np.histogram(data['Rating'], bins=15)\n",
    "print\n",
    "cumulative=np.cumsum(values)\n",
    "\n",
    "plt.plot(cumulative,color=\"blue\",marker=\"o\", linewidth=2)\n",
    "plt.show()"
   ]
  },
  {
   "cell_type": "code",
   "execution_count": 15,
   "id": "c84e12e6",
   "metadata": {
    "execution": {
     "iopub.execute_input": "2021-10-06T22:28:23.884512Z",
     "iopub.status.busy": "2021-10-06T22:28:23.883872Z",
     "iopub.status.idle": "2021-10-06T22:28:24.118936Z",
     "shell.execute_reply": "2021-10-06T22:28:24.119417Z",
     "shell.execute_reply.started": "2021-10-06T22:27:56.865430Z"
    },
    "papermill": {
     "duration": 0.263972,
     "end_time": "2021-10-06T22:28:24.119592",
     "exception": false,
     "start_time": "2021-10-06T22:28:23.855620",
     "status": "completed"
    },
    "tags": []
   },
   "outputs": [
    {
     "data": {
      "image/png": "[encoded data removed]",
      "text/plain": [
       "<Figure size 432x288 with 1 Axes>"
      ]
     },
     "metadata": {
      "needs_background": "light"
     },
     "output_type": "display_data"
    }
   ],
   "source": [
    "sns.histplot(x='Founded', data=data, color='red', linewidth=1.5, bins=5)\n",
    "plt.show() \n",
    "\n",
    "# Majority of the companies were founded from 1800 t0 2000"
   ]
  },
  {
   "cell_type": "markdown",
   "id": "fe74522e",
   "metadata": {
    "papermill": {
     "duration": 0.025874,
     "end_time": "2021-10-06T22:28:24.171589",
     "exception": false,
     "start_time": "2021-10-06T22:28:24.145715",
     "status": "completed"
    },
    "tags": []
   },
   "source": [
    "# Multivariate Analysis"
   ]
  },
  {
   "cell_type": "code",
   "execution_count": 16,
   "id": "04962ac9",
   "metadata": {
    "execution": {
     "iopub.execute_input": "2021-10-06T22:28:24.229201Z",
     "iopub.status.busy": "2021-10-06T22:28:24.228557Z",
     "iopub.status.idle": "2021-10-06T22:28:24.485845Z",
     "shell.execute_reply": "2021-10-06T22:28:24.486367Z",
     "shell.execute_reply.started": "2021-10-06T22:27:57.124646Z"
    },
    "papermill": {
     "duration": 0.288857,
     "end_time": "2021-10-06T22:28:24.486532",
     "exception": false,
     "start_time": "2021-10-06T22:28:24.197675",
     "status": "completed"
    },
    "tags": []
   },
   "outputs": [
    {
     "data": {
      "image/png": "[encoded data removed]",
      "text/plain": [
       "<Figure size 432x288 with 1 Axes>"
      ]
     },
     "metadata": {
      "needs_background": "light"
     },
     "output_type": "display_data"
    }
   ],
   "source": [
    "sns.barplot(y='Founded',x='Easy Apply',data=data)\n",
    "plt.show()"
   ]
  },
  {
   "cell_type": "code",
   "execution_count": 17,
   "id": "e40a4ac7",
   "metadata": {
    "execution": {
     "iopub.execute_input": "2021-10-06T22:28:24.546179Z",
     "iopub.status.busy": "2021-10-06T22:28:24.544664Z",
     "iopub.status.idle": "2021-10-06T22:28:25.688021Z",
     "shell.execute_reply": "2021-10-06T22:28:25.687402Z",
     "shell.execute_reply.started": "2021-10-06T22:27:57.377907Z"
    },
    "papermill": {
     "duration": 1.174975,
     "end_time": "2021-10-06T22:28:25.688158",
     "exception": false,
     "start_time": "2021-10-06T22:28:24.513183",
     "status": "completed"
    },
    "tags": []
   },
   "outputs": [
    {
     "data": {
      "image/png": "[encoded data removed]",
      "text/plain": [
       "<Figure size 432x288 with 1 Axes>"
      ]
     },
     "metadata": {
      "needs_background": "light"
     },
     "output_type": "display_data"
    }
   ],
   "source": [
    "sns.barplot(x='Founded',y='Revenue',data=data)\n",
    "plt.show()"
   ]
  },
  {
   "cell_type": "code",
   "execution_count": 18,
   "id": "04c43574",
   "metadata": {
    "execution": {
     "iopub.execute_input": "2021-10-06T22:28:25.748950Z",
     "iopub.status.busy": "2021-10-06T22:28:25.748317Z",
     "iopub.status.idle": "2021-10-06T22:28:26.310748Z",
     "shell.execute_reply": "2021-10-06T22:28:26.311207Z",
     "shell.execute_reply.started": "2021-10-06T22:27:58.336923Z"
    },
    "papermill": {
     "duration": 0.595399,
     "end_time": "2021-10-06T22:28:26.311394",
     "exception": false,
     "start_time": "2021-10-06T22:28:25.715995",
     "status": "completed"
    },
    "tags": []
   },
   "outputs": [
    {
     "data": {
      "image/png": "[encoded data removed]",
      "text/plain": [
       "<Figure size 432x288 with 1 Axes>"
      ]
     },
     "metadata": {
      "needs_background": "light"
     },
     "output_type": "display_data"
    }
   ],
   "source": [
    "sns.barplot(x='Founded',y='Size',data=data)\n",
    "plt.show()"
   ]
  },
  {
   "cell_type": "code",
   "execution_count": 19,
   "id": "2318bd41",
   "metadata": {
    "execution": {
     "iopub.execute_input": "2021-10-06T22:28:26.404401Z",
     "iopub.status.busy": "2021-10-06T22:28:26.376556Z",
     "iopub.status.idle": "2021-10-06T22:28:27.689382Z",
     "shell.execute_reply": "2021-10-06T22:28:27.688637Z",
     "shell.execute_reply.started": "2021-10-06T22:27:58.809524Z"
    },
    "papermill": {
     "duration": 1.349312,
     "end_time": "2021-10-06T22:28:27.689525",
     "exception": false,
     "start_time": "2021-10-06T22:28:26.340213",
     "status": "completed"
    },
    "tags": []
   },
   "outputs": [
    {
     "data": {
      "image/png": "[encoded data removed]",
      "text/plain": [
       "<Figure size 432x288 with 1 Axes>"
      ]
     },
     "metadata": {
      "needs_background": "light"
     },
     "output_type": "display_data"
    }
   ],
   "source": [
    "sns.lineplot(x='Rating',y='Founded',data=data, color='black', linewidth=2)\n",
    "plt.show()"
   ]
  },
  {
   "cell_type": "code",
   "execution_count": 20,
   "id": "d58521e6",
   "metadata": {
    "execution": {
     "iopub.execute_input": "2021-10-06T22:28:27.755835Z",
     "iopub.status.busy": "2021-10-06T22:28:27.755094Z",
     "iopub.status.idle": "2021-10-06T22:28:28.004622Z",
     "shell.execute_reply": "2021-10-06T22:28:28.004055Z",
     "shell.execute_reply.started": "2021-10-06T22:27:59.800580Z"
    },
    "papermill": {
     "duration": 0.284651,
     "end_time": "2021-10-06T22:28:28.004762",
     "exception": false,
     "start_time": "2021-10-06T22:28:27.720111",
     "status": "completed"
    },
    "tags": []
   },
   "outputs": [
    {
     "data": {
      "image/png": "[encoded data removed]",
      "text/plain": [
       "<Figure size 432x288 with 2 Axes>"
      ]
     },
     "metadata": {
      "needs_background": "light"
     },
     "output_type": "display_data"
    }
   ],
   "source": [
    "sns.heatmap(data.corr(), annot=True)\n",
    "plt.show()"
   ]
  }
 ],
 "metadata": {
  "kernelspec": {
   "display_name": "Python 3",
   "language": "python",
   "name": "python3"
  },
  "language_info": {
   "codemirror_mode": {
    "name": "ipython",
    "version": 3
   },
   "file_extension": ".py",
   "mimetype": "text/x-python",
   "name": "python",
   "nbconvert_exporter": "python",
   "pygments_lexer": "ipython3",
   "version": "3.7.10"
  },
  "papermill": {
   "default_parameters": {},
   "duration": 15.592815,
   "end_time": "2021-10-06T22:28:28.644963",
   "environment_variables": {},
   "exception": null,
   "input_path": "__notebook__.ipynb",
   "output_path": "__notebook__.ipynb",
   "parameters": {},
   "start_time": "2021-10-06T22:28:13.052148",
   "version": "2.3.3"
  }
 },
 "nbformat": 4,
 "nbformat_minor": 5
}
